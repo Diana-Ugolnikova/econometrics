{
 "cells": [
  {
   "cell_type": "code",
   "execution_count": 4,
   "id": "37ad499d",
   "metadata": {},
   "outputs": [],
   "source": [
    "import pandas as pd\n",
    "import numpy as np\n",
    "import io\n",
    "import statsmodels.formula.api as smf"
   ]
  },
  {
   "cell_type": "markdown",
   "id": "a0393230",
   "metadata": {},
   "source": [
    "## Задача 1.1.1"
   ]
  },
  {
   "cell_type": "code",
   "execution_count": 29,
   "id": "896e31c2",
   "metadata": {},
   "outputs": [],
   "source": [
    "data = '''sleep totwrk age male hrwage\n",
    "3113   3438  32   1    7.07 \n",
    "2920   5020  31   1    1.43 \n",
    "2670   2815  44   1   20.53 \n",
    "3083   3786  30   0    9.62 \n",
    "3448   2580  64   1    2.75 \n",
    "4063   1205  41   1   19.25 '''"
   ]
  },
  {
   "cell_type": "code",
   "execution_count": 30,
   "id": "cebce5f6",
   "metadata": {},
   "outputs": [
    {
     "data": {
      "text/plain": [
       "'sleep totwrk age male hrwage\\n3113   3438  32   1    7.07 \\n2920   5020  31   1    1.43 \\n2670   2815  44   1   20.53 \\n3083   3786  30   0    9.62 \\n3448   2580  64   1    2.75 \\n4063   1205  41   1   19.25 '"
      ]
     },
     "execution_count": 30,
     "metadata": {},
     "output_type": "execute_result"
    }
   ],
   "source": [
    "data"
   ]
  },
  {
   "cell_type": "code",
   "execution_count": 31,
   "id": "4c2e4a04",
   "metadata": {},
   "outputs": [
    {
     "data": {
      "text/html": [
       "<div>\n",
       "<style scoped>\n",
       "    .dataframe tbody tr th:only-of-type {\n",
       "        vertical-align: middle;\n",
       "    }\n",
       "\n",
       "    .dataframe tbody tr th {\n",
       "        vertical-align: top;\n",
       "    }\n",
       "\n",
       "    .dataframe thead th {\n",
       "        text-align: right;\n",
       "    }\n",
       "</style>\n",
       "<table border=\"1\" class=\"dataframe\">\n",
       "  <thead>\n",
       "    <tr style=\"text-align: right;\">\n",
       "      <th></th>\n",
       "      <th>sleep</th>\n",
       "      <th>totwrk</th>\n",
       "      <th>age</th>\n",
       "      <th>male</th>\n",
       "      <th>hrwage</th>\n",
       "    </tr>\n",
       "  </thead>\n",
       "  <tbody>\n",
       "    <tr>\n",
       "      <th>0</th>\n",
       "      <td>3113</td>\n",
       "      <td>3438</td>\n",
       "      <td>32</td>\n",
       "      <td>1</td>\n",
       "      <td>7.07</td>\n",
       "    </tr>\n",
       "    <tr>\n",
       "      <th>1</th>\n",
       "      <td>2920</td>\n",
       "      <td>5020</td>\n",
       "      <td>31</td>\n",
       "      <td>1</td>\n",
       "      <td>1.43</td>\n",
       "    </tr>\n",
       "    <tr>\n",
       "      <th>2</th>\n",
       "      <td>2670</td>\n",
       "      <td>2815</td>\n",
       "      <td>44</td>\n",
       "      <td>1</td>\n",
       "      <td>20.53</td>\n",
       "    </tr>\n",
       "    <tr>\n",
       "      <th>3</th>\n",
       "      <td>3083</td>\n",
       "      <td>3786</td>\n",
       "      <td>30</td>\n",
       "      <td>0</td>\n",
       "      <td>9.62</td>\n",
       "    </tr>\n",
       "    <tr>\n",
       "      <th>4</th>\n",
       "      <td>3448</td>\n",
       "      <td>2580</td>\n",
       "      <td>64</td>\n",
       "      <td>1</td>\n",
       "      <td>2.75</td>\n",
       "    </tr>\n",
       "    <tr>\n",
       "      <th>5</th>\n",
       "      <td>4063</td>\n",
       "      <td>1205</td>\n",
       "      <td>41</td>\n",
       "      <td>1</td>\n",
       "      <td>19.25</td>\n",
       "    </tr>\n",
       "  </tbody>\n",
       "</table>\n",
       "</div>"
      ],
      "text/plain": [
       "   sleep  totwrk  age  male  hrwage\n",
       "0   3113    3438   32     1    7.07\n",
       "1   2920    5020   31     1    1.43\n",
       "2   2670    2815   44     1   20.53\n",
       "3   3083    3786   30     0    9.62\n",
       "4   3448    2580   64     1    2.75\n",
       "5   4063    1205   41     1   19.25"
      ]
     },
     "execution_count": 31,
     "metadata": {},
     "output_type": "execute_result"
    }
   ],
   "source": [
    "df = pd.read_csv(io.StringIO(data), sep = '\\s+')\n",
    "df"
   ]
  },
  {
   "cell_type": "code",
   "execution_count": 32,
   "id": "00b6bbfb",
   "metadata": {},
   "outputs": [
    {
     "data": {
      "text/html": [
       "<div>\n",
       "<style scoped>\n",
       "    .dataframe tbody tr th:only-of-type {\n",
       "        vertical-align: middle;\n",
       "    }\n",
       "\n",
       "    .dataframe tbody tr th {\n",
       "        vertical-align: top;\n",
       "    }\n",
       "\n",
       "    .dataframe thead th {\n",
       "        text-align: right;\n",
       "    }\n",
       "</style>\n",
       "<table border=\"1\" class=\"dataframe\">\n",
       "  <thead>\n",
       "    <tr style=\"text-align: right;\">\n",
       "      <th></th>\n",
       "      <th>sleep</th>\n",
       "      <th>totwrk</th>\n",
       "      <th>age</th>\n",
       "      <th>male</th>\n",
       "      <th>hrwage</th>\n",
       "      <th>pred</th>\n",
       "    </tr>\n",
       "  </thead>\n",
       "  <tbody>\n",
       "    <tr>\n",
       "      <th>0</th>\n",
       "      <td>3113</td>\n",
       "      <td>3438</td>\n",
       "      <td>32</td>\n",
       "      <td>1</td>\n",
       "      <td>7.07</td>\n",
       "      <td>3059.416098</td>\n",
       "    </tr>\n",
       "    <tr>\n",
       "      <th>1</th>\n",
       "      <td>2920</td>\n",
       "      <td>5020</td>\n",
       "      <td>31</td>\n",
       "      <td>1</td>\n",
       "      <td>1.43</td>\n",
       "      <td>2820.466176</td>\n",
       "    </tr>\n",
       "    <tr>\n",
       "      <th>2</th>\n",
       "      <td>2670</td>\n",
       "      <td>2815</td>\n",
       "      <td>44</td>\n",
       "      <td>1</td>\n",
       "      <td>20.53</td>\n",
       "      <td>3168.003754</td>\n",
       "    </tr>\n",
       "    <tr>\n",
       "      <th>3</th>\n",
       "      <td>3083</td>\n",
       "      <td>3786</td>\n",
       "      <td>30</td>\n",
       "      <td>0</td>\n",
       "      <td>9.62</td>\n",
       "      <td>2945.613219</td>\n",
       "    </tr>\n",
       "    <tr>\n",
       "      <th>4</th>\n",
       "      <td>3448</td>\n",
       "      <td>2580</td>\n",
       "      <td>64</td>\n",
       "      <td>1</td>\n",
       "      <td>2.75</td>\n",
       "      <td>3257.865383</td>\n",
       "    </tr>\n",
       "    <tr>\n",
       "      <th>5</th>\n",
       "      <td>4063</td>\n",
       "      <td>1205</td>\n",
       "      <td>41</td>\n",
       "      <td>1</td>\n",
       "      <td>19.25</td>\n",
       "      <td>3421.379791</td>\n",
       "    </tr>\n",
       "  </tbody>\n",
       "</table>\n",
       "</div>"
      ],
      "text/plain": [
       "   sleep  totwrk  age  male  hrwage         pred\n",
       "0   3113    3438   32     1    7.07  3059.416098\n",
       "1   2920    5020   31     1    1.43  2820.466176\n",
       "2   2670    2815   44     1   20.53  3168.003754\n",
       "3   3083    3786   30     0    9.62  2945.613219\n",
       "4   3448    2580   64     1    2.75  3257.865383\n",
       "5   4063    1205   41     1   19.25  3421.379791"
      ]
     },
     "execution_count": 32,
     "metadata": {},
     "output_type": "execute_result"
    }
   ],
   "source": [
    "df['pred'] = 3525.14 + (-0.16)*df['totwrk'] + 1.62 * df['age'] + 51.84 * df['male'] + (-9.88) * np.log(df['hrwage'])\n",
    "df"
   ]
  },
  {
   "cell_type": "code",
   "execution_count": 34,
   "id": "9cd3dda2",
   "metadata": {},
   "outputs": [
    {
     "data": {
      "text/html": [
       "<div>\n",
       "<style scoped>\n",
       "    .dataframe tbody tr th:only-of-type {\n",
       "        vertical-align: middle;\n",
       "    }\n",
       "\n",
       "    .dataframe tbody tr th {\n",
       "        vertical-align: top;\n",
       "    }\n",
       "\n",
       "    .dataframe thead th {\n",
       "        text-align: right;\n",
       "    }\n",
       "</style>\n",
       "<table border=\"1\" class=\"dataframe\">\n",
       "  <thead>\n",
       "    <tr style=\"text-align: right;\">\n",
       "      <th></th>\n",
       "      <th>sleep</th>\n",
       "      <th>totwrk</th>\n",
       "      <th>age</th>\n",
       "      <th>male</th>\n",
       "      <th>hrwage</th>\n",
       "      <th>pred</th>\n",
       "      <th>residual</th>\n",
       "    </tr>\n",
       "  </thead>\n",
       "  <tbody>\n",
       "    <tr>\n",
       "      <th>0</th>\n",
       "      <td>3113</td>\n",
       "      <td>3438</td>\n",
       "      <td>32</td>\n",
       "      <td>1</td>\n",
       "      <td>7.07</td>\n",
       "      <td>3059.416098</td>\n",
       "      <td>53.583902</td>\n",
       "    </tr>\n",
       "    <tr>\n",
       "      <th>1</th>\n",
       "      <td>2920</td>\n",
       "      <td>5020</td>\n",
       "      <td>31</td>\n",
       "      <td>1</td>\n",
       "      <td>1.43</td>\n",
       "      <td>2820.466176</td>\n",
       "      <td>99.533824</td>\n",
       "    </tr>\n",
       "    <tr>\n",
       "      <th>2</th>\n",
       "      <td>2670</td>\n",
       "      <td>2815</td>\n",
       "      <td>44</td>\n",
       "      <td>1</td>\n",
       "      <td>20.53</td>\n",
       "      <td>3168.003754</td>\n",
       "      <td>-498.003754</td>\n",
       "    </tr>\n",
       "    <tr>\n",
       "      <th>3</th>\n",
       "      <td>3083</td>\n",
       "      <td>3786</td>\n",
       "      <td>30</td>\n",
       "      <td>0</td>\n",
       "      <td>9.62</td>\n",
       "      <td>2945.613219</td>\n",
       "      <td>137.386781</td>\n",
       "    </tr>\n",
       "    <tr>\n",
       "      <th>4</th>\n",
       "      <td>3448</td>\n",
       "      <td>2580</td>\n",
       "      <td>64</td>\n",
       "      <td>1</td>\n",
       "      <td>2.75</td>\n",
       "      <td>3257.865383</td>\n",
       "      <td>190.134617</td>\n",
       "    </tr>\n",
       "    <tr>\n",
       "      <th>5</th>\n",
       "      <td>4063</td>\n",
       "      <td>1205</td>\n",
       "      <td>41</td>\n",
       "      <td>1</td>\n",
       "      <td>19.25</td>\n",
       "      <td>3421.379791</td>\n",
       "      <td>641.620209</td>\n",
       "    </tr>\n",
       "  </tbody>\n",
       "</table>\n",
       "</div>"
      ],
      "text/plain": [
       "   sleep  totwrk  age  male  hrwage         pred    residual\n",
       "0   3113    3438   32     1    7.07  3059.416098   53.583902\n",
       "1   2920    5020   31     1    1.43  2820.466176   99.533824\n",
       "2   2670    2815   44     1   20.53  3168.003754 -498.003754\n",
       "3   3083    3786   30     0    9.62  2945.613219  137.386781\n",
       "4   3448    2580   64     1    2.75  3257.865383  190.134617\n",
       "5   4063    1205   41     1   19.25  3421.379791  641.620209"
      ]
     },
     "execution_count": 34,
     "metadata": {},
     "output_type": "execute_result"
    }
   ],
   "source": [
    "df['residual'] = df['sleep'] - df['pred']\n",
    "df"
   ]
  },
  {
   "cell_type": "markdown",
   "id": "10e94a08",
   "metadata": {},
   "source": [
    "## Задача 1.1.2"
   ]
  },
  {
   "cell_type": "code",
   "execution_count": 36,
   "id": "e4299f8a",
   "metadata": {},
   "outputs": [],
   "source": [
    "data = '''output capital labour\n",
    "9.25    2.61    184  \n",
    "3.66    1.32     91  \n",
    "28.78   22.09   426  \n",
    "4.12    10.74    72  \n",
    "2.89    1.16     46'''"
   ]
  },
  {
   "cell_type": "code",
   "execution_count": 37,
   "id": "883284f9",
   "metadata": {},
   "outputs": [
    {
     "data": {
      "text/plain": [
       "'output capital labour\\n9.25    2.61    184  \\n3.66    1.32     91  \\n28.78   22.09   426  \\n4.12    10.74    72  \\n2.89    1.16     46'"
      ]
     },
     "execution_count": 37,
     "metadata": {},
     "output_type": "execute_result"
    }
   ],
   "source": [
    "data"
   ]
  },
  {
   "cell_type": "code",
   "execution_count": 38,
   "id": "b137ec0f",
   "metadata": {},
   "outputs": [
    {
     "data": {
      "text/html": [
       "<div>\n",
       "<style scoped>\n",
       "    .dataframe tbody tr th:only-of-type {\n",
       "        vertical-align: middle;\n",
       "    }\n",
       "\n",
       "    .dataframe tbody tr th {\n",
       "        vertical-align: top;\n",
       "    }\n",
       "\n",
       "    .dataframe thead th {\n",
       "        text-align: right;\n",
       "    }\n",
       "</style>\n",
       "<table border=\"1\" class=\"dataframe\">\n",
       "  <thead>\n",
       "    <tr style=\"text-align: right;\">\n",
       "      <th></th>\n",
       "      <th>output</th>\n",
       "      <th>capital</th>\n",
       "      <th>labour</th>\n",
       "    </tr>\n",
       "  </thead>\n",
       "  <tbody>\n",
       "    <tr>\n",
       "      <th>0</th>\n",
       "      <td>9.25</td>\n",
       "      <td>2.61</td>\n",
       "      <td>184</td>\n",
       "    </tr>\n",
       "    <tr>\n",
       "      <th>1</th>\n",
       "      <td>3.66</td>\n",
       "      <td>1.32</td>\n",
       "      <td>91</td>\n",
       "    </tr>\n",
       "    <tr>\n",
       "      <th>2</th>\n",
       "      <td>28.78</td>\n",
       "      <td>22.09</td>\n",
       "      <td>426</td>\n",
       "    </tr>\n",
       "    <tr>\n",
       "      <th>3</th>\n",
       "      <td>4.12</td>\n",
       "      <td>10.74</td>\n",
       "      <td>72</td>\n",
       "    </tr>\n",
       "    <tr>\n",
       "      <th>4</th>\n",
       "      <td>2.89</td>\n",
       "      <td>1.16</td>\n",
       "      <td>46</td>\n",
       "    </tr>\n",
       "  </tbody>\n",
       "</table>\n",
       "</div>"
      ],
      "text/plain": [
       "   output  capital  labour\n",
       "0    9.25     2.61     184\n",
       "1    3.66     1.32      91\n",
       "2   28.78    22.09     426\n",
       "3    4.12    10.74      72\n",
       "4    2.89     1.16      46"
      ]
     },
     "execution_count": 38,
     "metadata": {},
     "output_type": "execute_result"
    }
   ],
   "source": [
    "df = pd.read_csv(io.StringIO(data), sep = '\\s+')\n",
    "df"
   ]
  },
  {
   "cell_type": "code",
   "execution_count": 39,
   "id": "735a7d8a",
   "metadata": {},
   "outputs": [
    {
     "data": {
      "text/html": [
       "<div>\n",
       "<style scoped>\n",
       "    .dataframe tbody tr th:only-of-type {\n",
       "        vertical-align: middle;\n",
       "    }\n",
       "\n",
       "    .dataframe tbody tr th {\n",
       "        vertical-align: top;\n",
       "    }\n",
       "\n",
       "    .dataframe thead th {\n",
       "        text-align: right;\n",
       "    }\n",
       "</style>\n",
       "<table border=\"1\" class=\"dataframe\">\n",
       "  <thead>\n",
       "    <tr style=\"text-align: right;\">\n",
       "      <th></th>\n",
       "      <th>output</th>\n",
       "      <th>capital</th>\n",
       "      <th>labour</th>\n",
       "      <th>pred</th>\n",
       "    </tr>\n",
       "  </thead>\n",
       "  <tbody>\n",
       "    <tr>\n",
       "      <th>0</th>\n",
       "      <td>9.25</td>\n",
       "      <td>2.61</td>\n",
       "      <td>184</td>\n",
       "      <td>2.194068</td>\n",
       "    </tr>\n",
       "    <tr>\n",
       "      <th>1</th>\n",
       "      <td>3.66</td>\n",
       "      <td>1.32</td>\n",
       "      <td>91</td>\n",
       "      <td>1.551013</td>\n",
       "    </tr>\n",
       "    <tr>\n",
       "      <th>2</th>\n",
       "      <td>28.78</td>\n",
       "      <td>22.09</td>\n",
       "      <td>426</td>\n",
       "      <td>3.238628</td>\n",
       "    </tr>\n",
       "    <tr>\n",
       "      <th>3</th>\n",
       "      <td>4.12</td>\n",
       "      <td>10.74</td>\n",
       "      <td>72</td>\n",
       "      <td>1.824968</td>\n",
       "    </tr>\n",
       "    <tr>\n",
       "      <th>4</th>\n",
       "      <td>2.89</td>\n",
       "      <td>1.16</td>\n",
       "      <td>46</td>\n",
       "      <td>1.039504</td>\n",
       "    </tr>\n",
       "  </tbody>\n",
       "</table>\n",
       "</div>"
      ],
      "text/plain": [
       "   output  capital  labour      pred\n",
       "0    9.25     2.61     184  2.194068\n",
       "1    3.66     1.32      91  1.551013\n",
       "2   28.78    22.09     426  3.238628\n",
       "3    4.12    10.74      72  1.824968\n",
       "4    2.89     1.16      46  1.039504"
      ]
     },
     "execution_count": 39,
     "metadata": {},
     "output_type": "execute_result"
    }
   ],
   "source": [
    "df['pred'] = (-1.71) + 0.21 * np.log(df['capital']) + 0.71 * np.log(df['labour'])\n",
    "df"
   ]
  },
  {
   "cell_type": "code",
   "execution_count": 41,
   "id": "2fd4d4de",
   "metadata": {},
   "outputs": [
    {
     "data": {
      "text/html": [
       "<div>\n",
       "<style scoped>\n",
       "    .dataframe tbody tr th:only-of-type {\n",
       "        vertical-align: middle;\n",
       "    }\n",
       "\n",
       "    .dataframe tbody tr th {\n",
       "        vertical-align: top;\n",
       "    }\n",
       "\n",
       "    .dataframe thead th {\n",
       "        text-align: right;\n",
       "    }\n",
       "</style>\n",
       "<table border=\"1\" class=\"dataframe\">\n",
       "  <thead>\n",
       "    <tr style=\"text-align: right;\">\n",
       "      <th></th>\n",
       "      <th>output</th>\n",
       "      <th>capital</th>\n",
       "      <th>labour</th>\n",
       "      <th>pred</th>\n",
       "      <th>residual</th>\n",
       "    </tr>\n",
       "  </thead>\n",
       "  <tbody>\n",
       "    <tr>\n",
       "      <th>0</th>\n",
       "      <td>9.25</td>\n",
       "      <td>2.61</td>\n",
       "      <td>184</td>\n",
       "      <td>2.194068</td>\n",
       "      <td>0.030556</td>\n",
       "    </tr>\n",
       "    <tr>\n",
       "      <th>1</th>\n",
       "      <td>3.66</td>\n",
       "      <td>1.32</td>\n",
       "      <td>91</td>\n",
       "      <td>1.551013</td>\n",
       "      <td>-0.253550</td>\n",
       "    </tr>\n",
       "    <tr>\n",
       "      <th>2</th>\n",
       "      <td>28.78</td>\n",
       "      <td>22.09</td>\n",
       "      <td>426</td>\n",
       "      <td>3.238628</td>\n",
       "      <td>0.121053</td>\n",
       "    </tr>\n",
       "    <tr>\n",
       "      <th>3</th>\n",
       "      <td>4.12</td>\n",
       "      <td>10.74</td>\n",
       "      <td>72</td>\n",
       "      <td>1.824968</td>\n",
       "      <td>-0.409115</td>\n",
       "    </tr>\n",
       "    <tr>\n",
       "      <th>4</th>\n",
       "      <td>2.89</td>\n",
       "      <td>1.16</td>\n",
       "      <td>46</td>\n",
       "      <td>1.039504</td>\n",
       "      <td>0.021753</td>\n",
       "    </tr>\n",
       "  </tbody>\n",
       "</table>\n",
       "</div>"
      ],
      "text/plain": [
       "   output  capital  labour      pred  residual\n",
       "0    9.25     2.61     184  2.194068  0.030556\n",
       "1    3.66     1.32      91  1.551013 -0.253550\n",
       "2   28.78    22.09     426  3.238628  0.121053\n",
       "3    4.12    10.74      72  1.824968 -0.409115\n",
       "4    2.89     1.16      46  1.039504  0.021753"
      ]
     },
     "execution_count": 41,
     "metadata": {},
     "output_type": "execute_result"
    }
   ],
   "source": [
    "df['residual'] = np.log(df['output']) - df['pred']\n",
    "df"
   ]
  },
  {
   "cell_type": "markdown",
   "id": "8f3705bf",
   "metadata": {},
   "source": [
    "## Задача 1.2.1"
   ]
  },
  {
   "cell_type": "code",
   "execution_count": 42,
   "id": "f1315a0e",
   "metadata": {},
   "outputs": [],
   "source": [
    "TSS = 100.35\n",
    "ESS = 47.56"
   ]
  },
  {
   "cell_type": "code",
   "execution_count": 43,
   "id": "88980a9f",
   "metadata": {},
   "outputs": [
    {
     "data": {
      "text/plain": [
       "52.78999999999999"
      ]
     },
     "execution_count": 43,
     "metadata": {},
     "output_type": "execute_result"
    }
   ],
   "source": [
    "RSS = TSS - ESS\n",
    "RSS"
   ]
  },
  {
   "cell_type": "markdown",
   "id": "7a8c32bf",
   "metadata": {},
   "source": [
    "$$\n",
    "R^2 = \\frac{ESS}{TSS} = 1 - \\frac{RSS}{TSS}\n",
    "$$"
   ]
  },
  {
   "cell_type": "code",
   "execution_count": 46,
   "id": "880b69ab",
   "metadata": {},
   "outputs": [
    {
     "data": {
      "text/plain": [
       "0.47394120577977084"
      ]
     },
     "execution_count": 46,
     "metadata": {},
     "output_type": "execute_result"
    }
   ],
   "source": [
    "R2 = ESS/TSS\n",
    "R2"
   ]
  },
  {
   "cell_type": "markdown",
   "id": "5a77fdd7",
   "metadata": {},
   "source": [
    "$$\n",
    "R^2_{adj} = 1 - (1-R^2) * \\frac{n-1}{n-k}\n",
    "$$\n",
    "n -- Количество измерений\n",
    "k --- Количество регрессоров"
   ]
  },
  {
   "cell_type": "markdown",
   "id": "5c4216aa",
   "metadata": {},
   "source": [
    "## Задача 2.1"
   ]
  },
  {
   "cell_type": "code",
   "execution_count": 50,
   "id": "051785c3",
   "metadata": {},
   "outputs": [
    {
     "data": {
      "text/plain": [
       "0.2825335892514397"
      ]
     },
     "execution_count": 50,
     "metadata": {},
     "output_type": "execute_result"
    }
   ],
   "source": [
    "n = 526\n",
    "k = 5\n",
    "R2 = 0.288\n",
    "R2adj = 1 - (1-R2)*(n-1)/(n-k)\n",
    "R2adj"
   ]
  },
  {
   "cell_type": "code",
   "execution_count": 51,
   "id": "2567cd80",
   "metadata": {},
   "outputs": [
    {
     "data": {
      "text/plain": [
       "0.283"
      ]
     },
     "execution_count": 51,
     "metadata": {},
     "output_type": "execute_result"
    }
   ],
   "source": [
    "round(R2adj, 3)"
   ]
  },
  {
   "cell_type": "markdown",
   "id": "7ed9c0b1",
   "metadata": {},
   "source": [
    "## Задача 3.1"
   ]
  },
  {
   "cell_type": "code",
   "execution_count": 53,
   "id": "38875740",
   "metadata": {},
   "outputs": [],
   "source": [
    "sting_data = '''i   Факт  Fitted  Остаток \n",
    "1   3113 3094.454  18.546 \n",
    "4   3083 2943.580 139.420 \n",
    "6   4063 3494.143 568.857 \n",
    "10  3018 3111.983 -93.983 \n",
    "508 3630 3476.914 153.086 \n",
    "700 2993 3295.398 -302.398'''"
   ]
  },
  {
   "cell_type": "code",
   "execution_count": 57,
   "id": "1dfc6795",
   "metadata": {},
   "outputs": [
    {
     "data": {
      "text/html": [
       "<div>\n",
       "<style scoped>\n",
       "    .dataframe tbody tr th:only-of-type {\n",
       "        vertical-align: middle;\n",
       "    }\n",
       "\n",
       "    .dataframe tbody tr th {\n",
       "        vertical-align: top;\n",
       "    }\n",
       "\n",
       "    .dataframe thead th {\n",
       "        text-align: right;\n",
       "    }\n",
       "</style>\n",
       "<table border=\"1\" class=\"dataframe\">\n",
       "  <thead>\n",
       "    <tr style=\"text-align: right;\">\n",
       "      <th></th>\n",
       "      <th>i</th>\n",
       "      <th>Факт</th>\n",
       "      <th>Fitted</th>\n",
       "      <th>Остаток</th>\n",
       "    </tr>\n",
       "  </thead>\n",
       "  <tbody>\n",
       "    <tr>\n",
       "      <th>0</th>\n",
       "      <td>1</td>\n",
       "      <td>3113</td>\n",
       "      <td>3094.454</td>\n",
       "      <td>18.546</td>\n",
       "    </tr>\n",
       "    <tr>\n",
       "      <th>1</th>\n",
       "      <td>4</td>\n",
       "      <td>3083</td>\n",
       "      <td>2943.580</td>\n",
       "      <td>139.420</td>\n",
       "    </tr>\n",
       "    <tr>\n",
       "      <th>2</th>\n",
       "      <td>6</td>\n",
       "      <td>4063</td>\n",
       "      <td>3494.143</td>\n",
       "      <td>568.857</td>\n",
       "    </tr>\n",
       "    <tr>\n",
       "      <th>3</th>\n",
       "      <td>10</td>\n",
       "      <td>3018</td>\n",
       "      <td>3111.983</td>\n",
       "      <td>-93.983</td>\n",
       "    </tr>\n",
       "    <tr>\n",
       "      <th>4</th>\n",
       "      <td>508</td>\n",
       "      <td>3630</td>\n",
       "      <td>3476.914</td>\n",
       "      <td>153.086</td>\n",
       "    </tr>\n",
       "    <tr>\n",
       "      <th>5</th>\n",
       "      <td>700</td>\n",
       "      <td>2993</td>\n",
       "      <td>3295.398</td>\n",
       "      <td>-302.398</td>\n",
       "    </tr>\n",
       "  </tbody>\n",
       "</table>\n",
       "</div>"
      ],
      "text/plain": [
       "     i  Факт    Fitted  Остаток\n",
       "0    1  3113  3094.454   18.546\n",
       "1    4  3083  2943.580  139.420\n",
       "2    6  4063  3494.143  568.857\n",
       "3   10  3018  3111.983  -93.983\n",
       "4  508  3630  3476.914  153.086\n",
       "5  700  2993  3295.398 -302.398"
      ]
     },
     "execution_count": 57,
     "metadata": {},
     "output_type": "execute_result"
    }
   ],
   "source": [
    "df = pd.read_csv(io.StringIO(sting_data), sep = '\\s+')\n",
    "df"
   ]
  },
  {
   "cell_type": "code",
   "execution_count": 58,
   "id": "92c505be",
   "metadata": {},
   "outputs": [
    {
     "data": {
      "text/plain": [
       "0    3113\n",
       "1    3083\n",
       "2    4063\n",
       "3    3018\n",
       "4    3630\n",
       "5    2993\n",
       "Name: Факт, dtype: int64"
      ]
     },
     "execution_count": 58,
     "metadata": {},
     "output_type": "execute_result"
    }
   ],
   "source": [
    "df['Факт']"
   ]
  },
  {
   "cell_type": "code",
   "execution_count": 59,
   "id": "7f7e6919",
   "metadata": {},
   "outputs": [
    {
     "data": {
      "text/plain": [
       "3316.6666666666665"
      ]
     },
     "execution_count": 59,
     "metadata": {},
     "output_type": "execute_result"
    }
   ],
   "source": [
    "df['Факт'].mean()"
   ]
  },
  {
   "cell_type": "code",
   "execution_count": 61,
   "id": "741f09b9",
   "metadata": {},
   "outputs": [
    {
     "data": {
      "text/plain": [
       "0     41480.111111\n",
       "1     54600.111111\n",
       "2    557013.444444\n",
       "3     89201.777778\n",
       "4     98177.777778\n",
       "5    104760.111111\n",
       "Name: Факт, dtype: float64"
      ]
     },
     "execution_count": 61,
     "metadata": {},
     "output_type": "execute_result"
    }
   ],
   "source": [
    "tss = (df['Факт'] - df['Факт'].mean())**2\n",
    "tss"
   ]
  },
  {
   "cell_type": "code",
   "execution_count": 62,
   "id": "873e50aa",
   "metadata": {},
   "outputs": [
    {
     "data": {
      "text/plain": [
       "945233.3333333334"
      ]
     },
     "execution_count": 62,
     "metadata": {},
     "output_type": "execute_result"
    }
   ],
   "source": [
    "TSS = np.sum((df['Факт'] - df['Факт'].mean())**2)\n",
    "TSS"
   ]
  },
  {
   "cell_type": "code",
   "execution_count": 64,
   "id": "bfafb759",
   "metadata": {},
   "outputs": [
    {
     "data": {
      "text/plain": [
       "0    3094.454\n",
       "1    2943.580\n",
       "2    3494.143\n",
       "3    3111.983\n",
       "4    3476.914\n",
       "5    3295.398\n",
       "Name: Fitted, dtype: float64"
      ]
     },
     "execution_count": 64,
     "metadata": {},
     "output_type": "execute_result"
    }
   ],
   "source": [
    "df['Fitted']"
   ]
  },
  {
   "cell_type": "code",
   "execution_count": 63,
   "id": "716bf22f",
   "metadata": {},
   "outputs": [
    {
     "data": {
      "text/plain": [
       "3236.078666666667"
      ]
     },
     "execution_count": 63,
     "metadata": {},
     "output_type": "execute_result"
    }
   ],
   "source": [
    "df['Fitted'].mean()"
   ]
  },
  {
   "cell_type": "code",
   "execution_count": 78,
   "id": "b5ef82bc",
   "metadata": {},
   "outputs": [
    {
     "data": {
      "text/plain": [
       "288096.9463873332"
      ]
     },
     "execution_count": 78,
     "metadata": {},
     "output_type": "execute_result"
    }
   ],
   "source": [
    "ESS = np.sum((df['Fitted'] - df['Факт'].mean())**2)\n",
    "ESS"
   ]
  },
  {
   "cell_type": "code",
   "execution_count": 79,
   "id": "e8663198",
   "metadata": {},
   "outputs": [
    {
     "data": {
      "text/plain": [
       "657136.3869460002"
      ]
     },
     "execution_count": 79,
     "metadata": {},
     "output_type": "execute_result"
    }
   ],
   "source": [
    "RSS = TSS - ESS\n",
    "RSS"
   ]
  },
  {
   "cell_type": "code",
   "execution_count": 80,
   "id": "3ff57ea6",
   "metadata": {},
   "outputs": [
    {
     "data": {
      "text/plain": [
       "0.305"
      ]
     },
     "execution_count": 80,
     "metadata": {},
     "output_type": "execute_result"
    }
   ],
   "source": [
    "R2 = ESS/TSS\n",
    "round (R2, 3)"
   ]
  },
  {
   "cell_type": "code",
   "execution_count": 81,
   "id": "a2f28e92",
   "metadata": {},
   "outputs": [
    {
     "data": {
      "text/plain": [
       "0.3018"
      ]
     },
     "execution_count": 81,
     "metadata": {},
     "output_type": "execute_result"
    }
   ],
   "source": [
    "R2_adj = 1 - (1-R2)*(700-1)/(700-4)\n",
    "round (R2_adj, 4)"
   ]
  },
  {
   "cell_type": "code",
   "execution_count": 83,
   "id": "a11a9663",
   "metadata": {},
   "outputs": [
    {
     "data": {
      "text/plain": [
       "810.6394925896469"
      ]
     },
     "execution_count": 83,
     "metadata": {},
     "output_type": "execute_result"
    }
   ],
   "source": [
    "SER = np.sqrt(RSS)\n",
    "SER"
   ]
  },
  {
   "cell_type": "code",
   "execution_count": null,
   "id": "db4b58ff",
   "metadata": {},
   "outputs": [],
   "source": []
  }
 ],
 "metadata": {
  "kernelspec": {
   "display_name": "Python 3 (ipykernel)",
   "language": "python",
   "name": "python3"
  },
  "language_info": {
   "codemirror_mode": {
    "name": "ipython",
    "version": 3
   },
   "file_extension": ".py",
   "mimetype": "text/x-python",
   "name": "python",
   "nbconvert_exporter": "python",
   "pygments_lexer": "ipython3",
   "version": "3.9.15"
  }
 },
 "nbformat": 4,
 "nbformat_minor": 5
}
