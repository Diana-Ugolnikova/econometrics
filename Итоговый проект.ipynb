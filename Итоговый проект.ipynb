{
 "cells": [
  {
   "cell_type": "code",
   "execution_count": 18,
   "id": "f6dad82d-ec7b-4658-8ca0-71c3424f4cb5",
   "metadata": {},
   "outputs": [],
   "source": [
    "import io\n",
    "import re\n",
    "import scipy\n",
    "import numpy as np\n",
    "import pandas as pd\n",
    "import seaborn as sns\n",
    "import scipy.stats as stats\n",
    "import statsmodels.formula.api as smf\n",
    "import matplotlib.pyplot as plt\n",
    "from statsmodels.iolib.summary2 import summary_params\n",
    "from statsmodels.iolib.summary2 import summary_col"
   ]
  },
  {
   "cell_type": "code",
   "execution_count": 9,
   "id": "fd5076a0-f2b7-43f5-ba3e-8d5115fb6c93",
   "metadata": {},
   "outputs": [
    {
     "data": {
      "text/html": [
       "<div>\n",
       "<style scoped>\n",
       "    .dataframe tbody tr th:only-of-type {\n",
       "        vertical-align: middle;\n",
       "    }\n",
       "\n",
       "    .dataframe tbody tr th {\n",
       "        vertical-align: top;\n",
       "    }\n",
       "\n",
       "    .dataframe thead th {\n",
       "        text-align: right;\n",
       "    }\n",
       "</style>\n",
       "<table border=\"1\" class=\"dataframe\">\n",
       "  <thead>\n",
       "    <tr style=\"text-align: right;\">\n",
       "      <th></th>\n",
       "      <th>CustomerID</th>\n",
       "      <th>Gender</th>\n",
       "      <th>Age</th>\n",
       "      <th>Annual Income ($)</th>\n",
       "      <th>Spending Score (1-100)</th>\n",
       "      <th>Profession</th>\n",
       "      <th>Work Experience</th>\n",
       "      <th>Family Size</th>\n",
       "    </tr>\n",
       "  </thead>\n",
       "  <tbody>\n",
       "    <tr>\n",
       "      <th>0</th>\n",
       "      <td>1</td>\n",
       "      <td>Male</td>\n",
       "      <td>19</td>\n",
       "      <td>15000</td>\n",
       "      <td>39</td>\n",
       "      <td>Healthcare</td>\n",
       "      <td>1</td>\n",
       "      <td>4</td>\n",
       "    </tr>\n",
       "    <tr>\n",
       "      <th>1</th>\n",
       "      <td>2</td>\n",
       "      <td>Male</td>\n",
       "      <td>21</td>\n",
       "      <td>35000</td>\n",
       "      <td>81</td>\n",
       "      <td>Engineer</td>\n",
       "      <td>3</td>\n",
       "      <td>3</td>\n",
       "    </tr>\n",
       "    <tr>\n",
       "      <th>2</th>\n",
       "      <td>3</td>\n",
       "      <td>Female</td>\n",
       "      <td>20</td>\n",
       "      <td>86000</td>\n",
       "      <td>6</td>\n",
       "      <td>Engineer</td>\n",
       "      <td>1</td>\n",
       "      <td>1</td>\n",
       "    </tr>\n",
       "    <tr>\n",
       "      <th>3</th>\n",
       "      <td>4</td>\n",
       "      <td>Female</td>\n",
       "      <td>23</td>\n",
       "      <td>59000</td>\n",
       "      <td>77</td>\n",
       "      <td>Lawyer</td>\n",
       "      <td>0</td>\n",
       "      <td>2</td>\n",
       "    </tr>\n",
       "    <tr>\n",
       "      <th>4</th>\n",
       "      <td>5</td>\n",
       "      <td>Female</td>\n",
       "      <td>31</td>\n",
       "      <td>38000</td>\n",
       "      <td>40</td>\n",
       "      <td>Entertainment</td>\n",
       "      <td>2</td>\n",
       "      <td>6</td>\n",
       "    </tr>\n",
       "    <tr>\n",
       "      <th>...</th>\n",
       "      <td>...</td>\n",
       "      <td>...</td>\n",
       "      <td>...</td>\n",
       "      <td>...</td>\n",
       "      <td>...</td>\n",
       "      <td>...</td>\n",
       "      <td>...</td>\n",
       "      <td>...</td>\n",
       "    </tr>\n",
       "    <tr>\n",
       "      <th>1995</th>\n",
       "      <td>1996</td>\n",
       "      <td>Female</td>\n",
       "      <td>71</td>\n",
       "      <td>184387</td>\n",
       "      <td>40</td>\n",
       "      <td>Artist</td>\n",
       "      <td>8</td>\n",
       "      <td>7</td>\n",
       "    </tr>\n",
       "    <tr>\n",
       "      <th>1996</th>\n",
       "      <td>1997</td>\n",
       "      <td>Female</td>\n",
       "      <td>91</td>\n",
       "      <td>73158</td>\n",
       "      <td>32</td>\n",
       "      <td>Doctor</td>\n",
       "      <td>7</td>\n",
       "      <td>7</td>\n",
       "    </tr>\n",
       "    <tr>\n",
       "      <th>1997</th>\n",
       "      <td>1998</td>\n",
       "      <td>Male</td>\n",
       "      <td>87</td>\n",
       "      <td>90961</td>\n",
       "      <td>14</td>\n",
       "      <td>Healthcare</td>\n",
       "      <td>9</td>\n",
       "      <td>2</td>\n",
       "    </tr>\n",
       "    <tr>\n",
       "      <th>1998</th>\n",
       "      <td>1999</td>\n",
       "      <td>Male</td>\n",
       "      <td>77</td>\n",
       "      <td>182109</td>\n",
       "      <td>4</td>\n",
       "      <td>Executive</td>\n",
       "      <td>7</td>\n",
       "      <td>2</td>\n",
       "    </tr>\n",
       "    <tr>\n",
       "      <th>1999</th>\n",
       "      <td>2000</td>\n",
       "      <td>Male</td>\n",
       "      <td>90</td>\n",
       "      <td>110610</td>\n",
       "      <td>52</td>\n",
       "      <td>Entertainment</td>\n",
       "      <td>5</td>\n",
       "      <td>2</td>\n",
       "    </tr>\n",
       "  </tbody>\n",
       "</table>\n",
       "<p>2000 rows × 8 columns</p>\n",
       "</div>"
      ],
      "text/plain": [
       "      CustomerID  Gender  Age  Annual Income ($)  Spending Score (1-100)  \\\n",
       "0              1    Male   19              15000                      39   \n",
       "1              2    Male   21              35000                      81   \n",
       "2              3  Female   20              86000                       6   \n",
       "3              4  Female   23              59000                      77   \n",
       "4              5  Female   31              38000                      40   \n",
       "...          ...     ...  ...                ...                     ...   \n",
       "1995        1996  Female   71             184387                      40   \n",
       "1996        1997  Female   91              73158                      32   \n",
       "1997        1998    Male   87              90961                      14   \n",
       "1998        1999    Male   77             182109                       4   \n",
       "1999        2000    Male   90             110610                      52   \n",
       "\n",
       "         Profession  Work Experience  Family Size  \n",
       "0        Healthcare                1            4  \n",
       "1          Engineer                3            3  \n",
       "2          Engineer                1            1  \n",
       "3            Lawyer                0            2  \n",
       "4     Entertainment                2            6  \n",
       "...             ...              ...          ...  \n",
       "1995         Artist                8            7  \n",
       "1996         Doctor                7            7  \n",
       "1997     Healthcare                9            2  \n",
       "1998      Executive                7            2  \n",
       "1999  Entertainment                5            2  \n",
       "\n",
       "[2000 rows x 8 columns]"
      ]
     },
     "execution_count": 9,
     "metadata": {},
     "output_type": "execute_result"
    }
   ],
   "source": [
    "df = pd.read_csv('https://raw.githubusercontent.com/Diana-Ugolnikova/econometrics/main/Customers.csv')\n",
    "df"
   ]
  },
  {
   "cell_type": "code",
   "execution_count": 10,
   "id": "51a0410a-5037-4213-b585-eeae441869df",
   "metadata": {},
   "outputs": [],
   "source": [
    "df = df.replace(to_replace=['Male','Female'], value=[1,0])"
   ]
  },
  {
   "cell_type": "code",
   "execution_count": 20,
   "id": "0bb74209",
   "metadata": {},
   "outputs": [
    {
     "data": {
      "text/html": [
       "<div>\n",
       "<style scoped>\n",
       "    .dataframe tbody tr th:only-of-type {\n",
       "        vertical-align: middle;\n",
       "    }\n",
       "\n",
       "    .dataframe tbody tr th {\n",
       "        vertical-align: top;\n",
       "    }\n",
       "\n",
       "    .dataframe thead th {\n",
       "        text-align: right;\n",
       "    }\n",
       "</style>\n",
       "<table border=\"1\" class=\"dataframe\">\n",
       "  <thead>\n",
       "    <tr style=\"text-align: right;\">\n",
       "      <th></th>\n",
       "      <th>CustomerID</th>\n",
       "      <th>Gender</th>\n",
       "      <th>Age</th>\n",
       "      <th>AnnualIncome</th>\n",
       "      <th>SpendingScore</th>\n",
       "      <th>Profession</th>\n",
       "      <th>WorkExperience</th>\n",
       "      <th>FamilySize</th>\n",
       "    </tr>\n",
       "  </thead>\n",
       "  <tbody>\n",
       "    <tr>\n",
       "      <th>0</th>\n",
       "      <td>1</td>\n",
       "      <td>1</td>\n",
       "      <td>19</td>\n",
       "      <td>15000</td>\n",
       "      <td>39</td>\n",
       "      <td>Healthcare</td>\n",
       "      <td>1</td>\n",
       "      <td>4</td>\n",
       "    </tr>\n",
       "    <tr>\n",
       "      <th>1</th>\n",
       "      <td>2</td>\n",
       "      <td>1</td>\n",
       "      <td>21</td>\n",
       "      <td>35000</td>\n",
       "      <td>81</td>\n",
       "      <td>Engineer</td>\n",
       "      <td>3</td>\n",
       "      <td>3</td>\n",
       "    </tr>\n",
       "    <tr>\n",
       "      <th>2</th>\n",
       "      <td>3</td>\n",
       "      <td>0</td>\n",
       "      <td>20</td>\n",
       "      <td>86000</td>\n",
       "      <td>6</td>\n",
       "      <td>Engineer</td>\n",
       "      <td>1</td>\n",
       "      <td>1</td>\n",
       "    </tr>\n",
       "    <tr>\n",
       "      <th>3</th>\n",
       "      <td>4</td>\n",
       "      <td>0</td>\n",
       "      <td>23</td>\n",
       "      <td>59000</td>\n",
       "      <td>77</td>\n",
       "      <td>Lawyer</td>\n",
       "      <td>0</td>\n",
       "      <td>2</td>\n",
       "    </tr>\n",
       "    <tr>\n",
       "      <th>4</th>\n",
       "      <td>5</td>\n",
       "      <td>0</td>\n",
       "      <td>31</td>\n",
       "      <td>38000</td>\n",
       "      <td>40</td>\n",
       "      <td>Entertainment</td>\n",
       "      <td>2</td>\n",
       "      <td>6</td>\n",
       "    </tr>\n",
       "    <tr>\n",
       "      <th>...</th>\n",
       "      <td>...</td>\n",
       "      <td>...</td>\n",
       "      <td>...</td>\n",
       "      <td>...</td>\n",
       "      <td>...</td>\n",
       "      <td>...</td>\n",
       "      <td>...</td>\n",
       "      <td>...</td>\n",
       "    </tr>\n",
       "    <tr>\n",
       "      <th>1995</th>\n",
       "      <td>1996</td>\n",
       "      <td>0</td>\n",
       "      <td>71</td>\n",
       "      <td>184387</td>\n",
       "      <td>40</td>\n",
       "      <td>Artist</td>\n",
       "      <td>8</td>\n",
       "      <td>7</td>\n",
       "    </tr>\n",
       "    <tr>\n",
       "      <th>1996</th>\n",
       "      <td>1997</td>\n",
       "      <td>0</td>\n",
       "      <td>91</td>\n",
       "      <td>73158</td>\n",
       "      <td>32</td>\n",
       "      <td>Doctor</td>\n",
       "      <td>7</td>\n",
       "      <td>7</td>\n",
       "    </tr>\n",
       "    <tr>\n",
       "      <th>1997</th>\n",
       "      <td>1998</td>\n",
       "      <td>1</td>\n",
       "      <td>87</td>\n",
       "      <td>90961</td>\n",
       "      <td>14</td>\n",
       "      <td>Healthcare</td>\n",
       "      <td>9</td>\n",
       "      <td>2</td>\n",
       "    </tr>\n",
       "    <tr>\n",
       "      <th>1998</th>\n",
       "      <td>1999</td>\n",
       "      <td>1</td>\n",
       "      <td>77</td>\n",
       "      <td>182109</td>\n",
       "      <td>4</td>\n",
       "      <td>Executive</td>\n",
       "      <td>7</td>\n",
       "      <td>2</td>\n",
       "    </tr>\n",
       "    <tr>\n",
       "      <th>1999</th>\n",
       "      <td>2000</td>\n",
       "      <td>1</td>\n",
       "      <td>90</td>\n",
       "      <td>110610</td>\n",
       "      <td>52</td>\n",
       "      <td>Entertainment</td>\n",
       "      <td>5</td>\n",
       "      <td>2</td>\n",
       "    </tr>\n",
       "  </tbody>\n",
       "</table>\n",
       "<p>2000 rows × 8 columns</p>\n",
       "</div>"
      ],
      "text/plain": [
       "      CustomerID  Gender  Age  AnnualIncome  SpendingScore     Profession  \\\n",
       "0              1       1   19         15000             39     Healthcare   \n",
       "1              2       1   21         35000             81       Engineer   \n",
       "2              3       0   20         86000              6       Engineer   \n",
       "3              4       0   23         59000             77         Lawyer   \n",
       "4              5       0   31         38000             40  Entertainment   \n",
       "...          ...     ...  ...           ...            ...            ...   \n",
       "1995        1996       0   71        184387             40         Artist   \n",
       "1996        1997       0   91         73158             32         Doctor   \n",
       "1997        1998       1   87         90961             14     Healthcare   \n",
       "1998        1999       1   77        182109              4      Executive   \n",
       "1999        2000       1   90        110610             52  Entertainment   \n",
       "\n",
       "      WorkExperience  FamilySize  \n",
       "0                  1           4  \n",
       "1                  3           3  \n",
       "2                  1           1  \n",
       "3                  0           2  \n",
       "4                  2           6  \n",
       "...              ...         ...  \n",
       "1995               8           7  \n",
       "1996               7           7  \n",
       "1997               9           2  \n",
       "1998               7           2  \n",
       "1999               5           2  \n",
       "\n",
       "[2000 rows x 8 columns]"
      ]
     },
     "execution_count": 20,
     "metadata": {},
     "output_type": "execute_result"
    }
   ],
   "source": [
    "df = df.rename(columns={'Annual Income ($)':'AnnualIncome', 'Work Experience' : 'WorkExperience', 'Family Size':'FamilySize', 'Spending Score (1-100)' : 'SpendingScore'})\n",
    "df"
   ]
  },
  {
   "cell_type": "code",
   "execution_count": 11,
   "id": "0faede05-328a-4cab-8678-3929ab822580",
   "metadata": {},
   "outputs": [
    {
     "data": {
      "text/html": [
       "<div>\n",
       "<style scoped>\n",
       "    .dataframe tbody tr th:only-of-type {\n",
       "        vertical-align: middle;\n",
       "    }\n",
       "\n",
       "    .dataframe tbody tr th {\n",
       "        vertical-align: top;\n",
       "    }\n",
       "\n",
       "    .dataframe thead th {\n",
       "        text-align: right;\n",
       "    }\n",
       "</style>\n",
       "<table border=\"1\" class=\"dataframe\">\n",
       "  <thead>\n",
       "    <tr style=\"text-align: right;\">\n",
       "      <th></th>\n",
       "      <th>CustomerID</th>\n",
       "      <th>Gender</th>\n",
       "      <th>Age</th>\n",
       "      <th>AnnualIncome</th>\n",
       "      <th>Spending Score (1-100)</th>\n",
       "      <th>Profession</th>\n",
       "      <th>Work Experience</th>\n",
       "      <th>Family Size</th>\n",
       "    </tr>\n",
       "  </thead>\n",
       "  <tbody>\n",
       "    <tr>\n",
       "      <th>0</th>\n",
       "      <td>1</td>\n",
       "      <td>1</td>\n",
       "      <td>19</td>\n",
       "      <td>15000</td>\n",
       "      <td>39</td>\n",
       "      <td>Healthcare</td>\n",
       "      <td>1</td>\n",
       "      <td>4</td>\n",
       "    </tr>\n",
       "    <tr>\n",
       "      <th>1</th>\n",
       "      <td>2</td>\n",
       "      <td>1</td>\n",
       "      <td>21</td>\n",
       "      <td>35000</td>\n",
       "      <td>81</td>\n",
       "      <td>Engineer</td>\n",
       "      <td>3</td>\n",
       "      <td>3</td>\n",
       "    </tr>\n",
       "    <tr>\n",
       "      <th>2</th>\n",
       "      <td>3</td>\n",
       "      <td>0</td>\n",
       "      <td>20</td>\n",
       "      <td>86000</td>\n",
       "      <td>6</td>\n",
       "      <td>Engineer</td>\n",
       "      <td>1</td>\n",
       "      <td>1</td>\n",
       "    </tr>\n",
       "    <tr>\n",
       "      <th>3</th>\n",
       "      <td>4</td>\n",
       "      <td>0</td>\n",
       "      <td>23</td>\n",
       "      <td>59000</td>\n",
       "      <td>77</td>\n",
       "      <td>Lawyer</td>\n",
       "      <td>0</td>\n",
       "      <td>2</td>\n",
       "    </tr>\n",
       "    <tr>\n",
       "      <th>4</th>\n",
       "      <td>5</td>\n",
       "      <td>0</td>\n",
       "      <td>31</td>\n",
       "      <td>38000</td>\n",
       "      <td>40</td>\n",
       "      <td>Entertainment</td>\n",
       "      <td>2</td>\n",
       "      <td>6</td>\n",
       "    </tr>\n",
       "    <tr>\n",
       "      <th>...</th>\n",
       "      <td>...</td>\n",
       "      <td>...</td>\n",
       "      <td>...</td>\n",
       "      <td>...</td>\n",
       "      <td>...</td>\n",
       "      <td>...</td>\n",
       "      <td>...</td>\n",
       "      <td>...</td>\n",
       "    </tr>\n",
       "    <tr>\n",
       "      <th>1995</th>\n",
       "      <td>1996</td>\n",
       "      <td>0</td>\n",
       "      <td>71</td>\n",
       "      <td>184387</td>\n",
       "      <td>40</td>\n",
       "      <td>Artist</td>\n",
       "      <td>8</td>\n",
       "      <td>7</td>\n",
       "    </tr>\n",
       "    <tr>\n",
       "      <th>1996</th>\n",
       "      <td>1997</td>\n",
       "      <td>0</td>\n",
       "      <td>91</td>\n",
       "      <td>73158</td>\n",
       "      <td>32</td>\n",
       "      <td>Doctor</td>\n",
       "      <td>7</td>\n",
       "      <td>7</td>\n",
       "    </tr>\n",
       "    <tr>\n",
       "      <th>1997</th>\n",
       "      <td>1998</td>\n",
       "      <td>1</td>\n",
       "      <td>87</td>\n",
       "      <td>90961</td>\n",
       "      <td>14</td>\n",
       "      <td>Healthcare</td>\n",
       "      <td>9</td>\n",
       "      <td>2</td>\n",
       "    </tr>\n",
       "    <tr>\n",
       "      <th>1998</th>\n",
       "      <td>1999</td>\n",
       "      <td>1</td>\n",
       "      <td>77</td>\n",
       "      <td>182109</td>\n",
       "      <td>4</td>\n",
       "      <td>Executive</td>\n",
       "      <td>7</td>\n",
       "      <td>2</td>\n",
       "    </tr>\n",
       "    <tr>\n",
       "      <th>1999</th>\n",
       "      <td>2000</td>\n",
       "      <td>1</td>\n",
       "      <td>90</td>\n",
       "      <td>110610</td>\n",
       "      <td>52</td>\n",
       "      <td>Entertainment</td>\n",
       "      <td>5</td>\n",
       "      <td>2</td>\n",
       "    </tr>\n",
       "  </tbody>\n",
       "</table>\n",
       "<p>2000 rows × 8 columns</p>\n",
       "</div>"
      ],
      "text/plain": [
       "      CustomerID  Gender  Age  AnnualIncome  Spending Score (1-100)  \\\n",
       "0              1       1   19         15000                      39   \n",
       "1              2       1   21         35000                      81   \n",
       "2              3       0   20         86000                       6   \n",
       "3              4       0   23         59000                      77   \n",
       "4              5       0   31         38000                      40   \n",
       "...          ...     ...  ...           ...                     ...   \n",
       "1995        1996       0   71        184387                      40   \n",
       "1996        1997       0   91         73158                      32   \n",
       "1997        1998       1   87         90961                      14   \n",
       "1998        1999       1   77        182109                       4   \n",
       "1999        2000       1   90        110610                      52   \n",
       "\n",
       "         Profession  Work Experience  Family Size  \n",
       "0        Healthcare                1            4  \n",
       "1          Engineer                3            3  \n",
       "2          Engineer                1            1  \n",
       "3            Lawyer                0            2  \n",
       "4     Entertainment                2            6  \n",
       "...             ...              ...          ...  \n",
       "1995         Artist                8            7  \n",
       "1996         Doctor                7            7  \n",
       "1997     Healthcare                9            2  \n",
       "1998      Executive                7            2  \n",
       "1999  Entertainment                5            2  \n",
       "\n",
       "[2000 rows x 8 columns]"
      ]
     },
     "execution_count": 11,
     "metadata": {},
     "output_type": "execute_result"
    }
   ],
   "source": [
    "df = df.rename(columns={'Annual Income ($)':'AnnualIncome'})\n",
    "df"
   ]
  },
  {
   "cell_type": "markdown",
   "id": "57398426-3170-47ca-9f34-80e8ea9fbdc2",
   "metadata": {},
   "source": [
    "$$\n",
    "AnnualIncome = \\beta_0 + \\beta_1 * Gender + \\beta_2 * Age\n",
    "$$"
   ]
  },
  {
   "cell_type": "code",
   "execution_count": 25,
   "id": "f093a92f-1916-4d99-b325-65c312dc5bba",
   "metadata": {},
   "outputs": [
    {
     "data": {
      "text/plain": [
       "Intercept    108876.614\n",
       "Gender          426.040\n",
       "Age              34.351\n",
       "dtype: float64"
      ]
     },
     "execution_count": 25,
     "metadata": {},
     "output_type": "execute_result"
    }
   ],
   "source": [
    "model = smf.ols(formula = 'AnnualIncome~Gender+Age', data=df).fit()\n",
    "model.params.round(3)"
   ]
  },
  {
   "cell_type": "markdown",
   "id": "d20bbfae-28f3-4a64-98d8-d20378a91548",
   "metadata": {},
   "source": [
    "$$\n",
    "AnnualIncome = 108876.614 + 426.040 * Gender + 34.351 * Age\n",
    "$$"
   ]
  },
  {
   "cell_type": "markdown",
   "id": "b5e3f15a-8138-4392-8b5e-f70540d219e9",
   "metadata": {},
   "source": [
    "1. При увеличении возраста на 1 единицу годовой заработок увеличивается на 34.351, при прочих равных\n",
    "2. Если работающий человек - женщина, то заработная плата увеличивается на 426.040"
   ]
  },
  {
   "cell_type": "markdown",
   "id": "20f13833",
   "metadata": {},
   "source": [
    "$$\n",
    "AnnualIncome = \\beta_0 + \\beta_1 * Gender + \\beta_2 * Age + \\beta_3 * WorkExperience\n",
    "$$"
   ]
  },
  {
   "cell_type": "code",
   "execution_count": 30,
   "id": "f0ec25e1",
   "metadata": {},
   "outputs": [
    {
     "data": {
      "text/plain": [
       "Intercept         104567.861\n",
       "Gender               253.485\n",
       "Age                   36.428\n",
       "WorkExperience      1042.606\n",
       "dtype: float64"
      ]
     },
     "execution_count": 30,
     "metadata": {},
     "output_type": "execute_result"
    }
   ],
   "source": [
    "model = smf.ols(formula = 'AnnualIncome~Gender+Age+WorkExperience+1', data=df).fit()\n",
    "model.params.round(3)"
   ]
  },
  {
   "cell_type": "markdown",
   "id": "706d5162",
   "metadata": {},
   "source": [
    "1. При увеличении возраста на 1 единицу годовой заработок увеличивается на 36.428, при прочих равных\n",
    "2. Если работающий человек - женщина, то заработная плата увеличивается на 253.485\n",
    "3. При увеличении опыта работы на 1 единицу годовой заработок увеличивается на 1042.606, при прочих равных"
   ]
  },
  {
   "cell_type": "code",
   "execution_count": 28,
   "id": "068284c7",
   "metadata": {},
   "outputs": [],
   "source": [
    "### model = smf.ols(formula = 'np.log(AnnualIncome)~Gender+Age+WorkExperience', data=df).fit()\n",
    "### model.params.round(3)\n",
    "### при изменении спецификации модели с level-level на log-level появилась ошибка, которую, исходя из данных датасета, исправить невозможно"
   ]
  },
  {
   "cell_type": "code",
   "execution_count": 24,
   "id": "c6954a58",
   "metadata": {},
   "outputs": [
    {
     "data": {
      "text/html": [
       "<table class=\"simpletable\">\n",
       "<caption>OLS Regression Results</caption>\n",
       "<tr>\n",
       "  <th>Dep. Variable:</th>            <td>3</td>        <th>  R-squared:         </th> <td>   0.008</td> \n",
       "</tr>\n",
       "<tr>\n",
       "  <th>Model:</th>                   <td>OLS</td>       <th>  Adj. R-squared:    </th> <td>   0.007</td> \n",
       "</tr>\n",
       "<tr>\n",
       "  <th>Method:</th>             <td>Least Squares</td>  <th>  F-statistic:       </th> <td>   5.681</td> \n",
       "</tr>\n",
       "<tr>\n",
       "  <th>Date:</th>             <td>Wed, 17 May 2023</td> <th>  Prob (F-statistic):</th> <td>0.000715</td> \n",
       "</tr>\n",
       "<tr>\n",
       "  <th>Time:</th>                 <td>09:32:43</td>     <th>  Log-Likelihood:    </th> <td> -24290.</td> \n",
       "</tr>\n",
       "<tr>\n",
       "  <th>No. Observations:</th>      <td>  2000</td>      <th>  AIC:               </th> <td>4.859e+04</td>\n",
       "</tr>\n",
       "<tr>\n",
       "  <th>Df Residuals:</th>          <td>  1996</td>      <th>  BIC:               </th> <td>4.861e+04</td>\n",
       "</tr>\n",
       "<tr>\n",
       "  <th>Df Model:</th>              <td>     3</td>      <th>                     </th>     <td> </td>    \n",
       "</tr>\n",
       "<tr>\n",
       "  <th>Covariance Type:</th>      <td>nonrobust</td>    <th>                     </th>     <td> </td>    \n",
       "</tr>\n",
       "</table>\n",
       "<table class=\"simpletable\">\n",
       "<tr>\n",
       "         <td></td>           <th>coef</th>     <th>std err</th>      <th>t</th>      <th>P>|t|</th>  <th>[0.025</th>    <th>0.975]</th>  \n",
       "</tr>\n",
       "<tr>\n",
       "  <th>Intercept</th>      <td> 1.046e+05</td> <td> 2443.635</td> <td>   42.792</td> <td> 0.000</td> <td> 9.98e+04</td> <td> 1.09e+05</td>\n",
       "</tr>\n",
       "<tr>\n",
       "  <th>Gender</th>         <td>  253.4849</td> <td> 2075.071</td> <td>    0.122</td> <td> 0.903</td> <td>-3816.047</td> <td> 4323.016</td>\n",
       "</tr>\n",
       "<tr>\n",
       "  <th>Age</th>            <td>   36.4277</td> <td>   35.863</td> <td>    1.016</td> <td> 0.310</td> <td>  -33.905</td> <td>  106.760</td>\n",
       "</tr>\n",
       "<tr>\n",
       "  <th>WorkExperience</th> <td> 1042.6059</td> <td>  260.000</td> <td>    4.010</td> <td> 0.000</td> <td>  532.706</td> <td> 1552.505</td>\n",
       "</tr>\n",
       "</table>\n",
       "<table class=\"simpletable\">\n",
       "<tr>\n",
       "  <th>Omnibus:</th>       <td>216.477</td> <th>  Durbin-Watson:     </th> <td>   1.427</td>\n",
       "</tr>\n",
       "<tr>\n",
       "  <th>Prob(Omnibus):</th> <td> 0.000</td>  <th>  Jarque-Bera (JB):  </th> <td>  63.881</td>\n",
       "</tr>\n",
       "<tr>\n",
       "  <th>Skew:</th>          <td>-0.099</td>  <th>  Prob(JB):          </th> <td>1.34e-14</td>\n",
       "</tr>\n",
       "<tr>\n",
       "  <th>Kurtosis:</th>      <td> 2.147</td>  <th>  Cond. No.          </th> <td>    148.</td>\n",
       "</tr>\n",
       "</table><br/><br/>Notes:<br/>[1] Standard Errors assume that the covariance matrix of the errors is correctly specified."
      ],
      "text/plain": [
       "<class 'statsmodels.iolib.summary.Summary'>\n",
       "\"\"\"\n",
       "                            OLS Regression Results                            \n",
       "==============================================================================\n",
       "Dep. Variable:                      3   R-squared:                       0.008\n",
       "Model:                            OLS   Adj. R-squared:                  0.007\n",
       "Method:                 Least Squares   F-statistic:                     5.681\n",
       "Date:                Wed, 17 May 2023   Prob (F-statistic):           0.000715\n",
       "Time:                        09:32:43   Log-Likelihood:                -24290.\n",
       "No. Observations:                2000   AIC:                         4.859e+04\n",
       "Df Residuals:                    1996   BIC:                         4.861e+04\n",
       "Df Model:                           3                                         \n",
       "Covariance Type:            nonrobust                                         \n",
       "==================================================================================\n",
       "                     coef    std err          t      P>|t|      [0.025      0.975]\n",
       "----------------------------------------------------------------------------------\n",
       "Intercept       1.046e+05   2443.635     42.792      0.000    9.98e+04    1.09e+05\n",
       "Gender           253.4849   2075.071      0.122      0.903   -3816.047    4323.016\n",
       "Age               36.4277     35.863      1.016      0.310     -33.905     106.760\n",
       "WorkExperience  1042.6059    260.000      4.010      0.000     532.706    1552.505\n",
       "==============================================================================\n",
       "Omnibus:                      216.477   Durbin-Watson:                   1.427\n",
       "Prob(Omnibus):                  0.000   Jarque-Bera (JB):               63.881\n",
       "Skew:                          -0.099   Prob(JB):                     1.34e-14\n",
       "Kurtosis:                       2.147   Cond. No.                         148.\n",
       "==============================================================================\n",
       "\n",
       "Notes:\n",
       "[1] Standard Errors assume that the covariance matrix of the errors is correctly specified.\n",
       "\"\"\""
      ]
     },
     "execution_count": 24,
     "metadata": {},
     "output_type": "execute_result"
    }
   ],
   "source": [
    "model = smf.ols(formula = 'AnnualIncome~Gender+Age+WorkExperience', data=df).fit()\n",
    "model.summary(3)"
   ]
  },
  {
   "cell_type": "markdown",
   "id": "afb5d851",
   "metadata": {},
   "source": [
    "### Для уровня значимости = 0.1 - коэффициенты Intercept, WorkExperience - значимы"
   ]
  },
  {
   "cell_type": "markdown",
   "id": "08facaf1",
   "metadata": {},
   "source": [
    "### Для уровня значимости = 0.5 - коэффициенты Intercept, Age,WorkExperience - значимы"
   ]
  },
  {
   "cell_type": "markdown",
   "id": "f9ccc607",
   "metadata": {},
   "source": [
    "### Для уровня значимости = 0.5 - коэффициенты Intercept,WorkExperience - значимы"
   ]
  },
  {
   "cell_type": "markdown",
   "id": "9df9bed1",
   "metadata": {},
   "source": [
    "***"
   ]
  },
  {
   "cell_type": "markdown",
   "id": "5142e6d0",
   "metadata": {},
   "source": [
    "## Вывод \n",
    "### исходя из вычислений представленных выше, можно сделать вывод, основные показатели моделей уменьшились"
   ]
  },
  {
   "cell_type": "markdown",
   "id": "87299cd8",
   "metadata": {},
   "source": [
    "***"
   ]
  },
  {
   "cell_type": "markdown",
   "id": "8096edbc-12f2-4065-a4b8-660cd519ea82",
   "metadata": {},
   "source": [
    "## Зависимость годового заработка от пола"
   ]
  },
  {
   "cell_type": "code",
   "execution_count": 50,
   "id": "1b98c549-b2d9-44a6-9873-9aef99f6865b",
   "metadata": {},
   "outputs": [
    {
     "data": {
      "text/plain": [
       "<AxesSubplot:xlabel='Gender', ylabel='AnnualIncome'>"
      ]
     },
     "execution_count": 50,
     "metadata": {},
     "output_type": "execute_result"
    },
    {
     "data": {
      "image/png": "[encoded data removed]",
      "text/plain": [
       "<Figure size 432x288 with 1 Axes>"
      ]
     },
     "metadata": {
      "needs_background": "light"
     },
     "output_type": "display_data"
    }
   ],
   "source": [
    "sns.histplot(data=df, x='Gender', y='AnnualIncome')"
   ]
  },
  {
   "cell_type": "markdown",
   "id": "7d0fc51a-6e69-438d-bdb6-4279df78caed",
   "metadata": {},
   "source": [
    "#### До этого мы заменили Male на 1, а Female на 0\n",
    "#### На этой диаграмме мы видим, что женщины чаще получают высокую заработную плату, чем мужчины (делаем вывод исходя из насыщенности цвета)\n",
    "#### У женщин заработная плата чаще составляет около 70000-75000 ден.единиц, у мужчин в целом равномерное распределение заработка, но можно заметить, что их заработная плата чаще составляет около 80000-90000 ден.единиц"
   ]
  },
  {
   "cell_type": "markdown",
   "id": "a9fdd033-e6b7-49e0-9923-c065e1c0dcec",
   "metadata": {},
   "source": [
    "## График показывающий зависимость годового заработка от возраста"
   ]
  },
  {
   "cell_type": "code",
   "execution_count": 51,
   "id": "fa1bf211-4b4f-4e08-b634-fd6ef8c489d2",
   "metadata": {},
   "outputs": [
    {
     "data": {
      "text/plain": [
       "<seaborn.axisgrid.FacetGrid at 0x7f9532ac00d0>"
      ]
     },
     "execution_count": 51,
     "metadata": {},
     "output_type": "execute_result"
    },
    {
     "data": {
      "image/png": "[encoded data removed]",
      "text/plain": [
       "<Figure size 828x360 with 1 Axes>"
      ]
     },
     "metadata": {
      "needs_background": "light"
     },
     "output_type": "display_data"
    }
   ],
   "source": [
    "sns.lmplot(data = df, x = 'Age', y = 'AnnualIncome', ci=None, hue='Profession',height = 5, aspect = 2)"
   ]
  },
  {
   "cell_type": "markdown",
   "id": "6bf573a0-8ff9-4d0d-857e-912ad6fcc38b",
   "metadata": {},
   "source": [
    "#### На данном графике видно, что в основном среднегодовой заработок выше 50000 ден.единиц у большинства профессий\n",
    "#### Также стоит отметить, что все линии пересекаются примерно в одной области, можно сделать вывод о том, что в возрасте примерно от 40 до 45 лет люди чаще всего достигают годового заработка в 100000 ден. единиц\n"
   ]
  },
  {
   "cell_type": "code",
   "execution_count": 16,
   "id": "55d754b0-a2af-474c-9019-8385a1610d53",
   "metadata": {},
   "outputs": [
    {
     "data": {
      "text/plain": [
       "<AxesSubplot: xlabel='Age', ylabel='AnnualIncome'>"
      ]
     },
     "execution_count": 16,
     "metadata": {},
     "output_type": "execute_result"
    },
    {
     "data": {
      "image/png": "[encoded data removed]",
      "text/plain": [
       "<Figure size 640x480 with 1 Axes>"
      ]
     },
     "metadata": {},
     "output_type": "display_data"
    }
   ],
   "source": [
    "sns.scatterplot(data=df, y = 'AnnualIncome', x = 'Age', color = 'green', marker = 'D')"
   ]
  },
  {
   "cell_type": "code",
   "execution_count": 53,
   "id": "67b74256-10cb-4d6e-8e86-7bb20b3d92da",
   "metadata": {},
   "outputs": [
    {
     "data": {
      "text/plain": [
       "<AxesSubplot:xlabel='Age', ylabel='AnnualIncome'>"
      ]
     },
     "execution_count": 53,
     "metadata": {},
     "output_type": "execute_result"
    },
    {
     "data": {
      "image/png": "[encoded data removed]",
      "text/plain": [
       "<Figure size 432x288 with 1 Axes>"
      ]
     },
     "metadata": {
      "needs_background": "light"
     },
     "output_type": "display_data"
    }
   ],
   "source": [
    "sns.regplot(data=df, y = 'AnnualIncome', x = 'Age', ci=None, order = 2, line_kws ={\"color\":\"purple\"})"
   ]
  },
  {
   "cell_type": "markdown",
   "id": "13a5a786-f7b6-4b0f-84f6-ba55145ad1fa",
   "metadata": {},
   "source": [
    "#### На основе полученной модели можно сделать вывод что, чем больше возраст человек, тем выше его годовой заработок"
   ]
  },
  {
   "cell_type": "markdown",
   "id": "6ac954b0-63e9-48ca-acfe-32fc355e8348",
   "metadata": {},
   "source": [
    "##### P.S да, немного косячный датасет, оказалось, что даже в \"0\" лет можно зарабатывать большие деньги, но меня, как эконометриста, это не особо волнует, поэтому, можно продолжить анализ"
   ]
  },
  {
   "cell_type": "code",
   "execution_count": 54,
   "id": "1293e1af-3934-4c57-81d9-cb425a380582",
   "metadata": {},
   "outputs": [
    {
     "data": {
      "text/html": [
       "<div>\n",
       "<style scoped>\n",
       "    .dataframe tbody tr th:only-of-type {\n",
       "        vertical-align: middle;\n",
       "    }\n",
       "\n",
       "    .dataframe tbody tr th {\n",
       "        vertical-align: top;\n",
       "    }\n",
       "\n",
       "    .dataframe thead th {\n",
       "        text-align: right;\n",
       "    }\n",
       "</style>\n",
       "<table border=\"1\" class=\"dataframe\">\n",
       "  <thead>\n",
       "    <tr style=\"text-align: right;\">\n",
       "      <th></th>\n",
       "      <th>CustomerID</th>\n",
       "      <th>Gender</th>\n",
       "      <th>Age</th>\n",
       "      <th>AnnualIncome</th>\n",
       "      <th>Spending Score (1-100)</th>\n",
       "      <th>Profession</th>\n",
       "      <th>Work Experience</th>\n",
       "      <th>Family Size</th>\n",
       "      <th>Age^2</th>\n",
       "    </tr>\n",
       "  </thead>\n",
       "  <tbody>\n",
       "    <tr>\n",
       "      <th>0</th>\n",
       "      <td>1</td>\n",
       "      <td>1</td>\n",
       "      <td>19</td>\n",
       "      <td>15000</td>\n",
       "      <td>39</td>\n",
       "      <td>Healthcare</td>\n",
       "      <td>1</td>\n",
       "      <td>4</td>\n",
       "      <td>361</td>\n",
       "    </tr>\n",
       "    <tr>\n",
       "      <th>1</th>\n",
       "      <td>2</td>\n",
       "      <td>1</td>\n",
       "      <td>21</td>\n",
       "      <td>35000</td>\n",
       "      <td>81</td>\n",
       "      <td>Engineer</td>\n",
       "      <td>3</td>\n",
       "      <td>3</td>\n",
       "      <td>441</td>\n",
       "    </tr>\n",
       "    <tr>\n",
       "      <th>2</th>\n",
       "      <td>3</td>\n",
       "      <td>0</td>\n",
       "      <td>20</td>\n",
       "      <td>86000</td>\n",
       "      <td>6</td>\n",
       "      <td>Engineer</td>\n",
       "      <td>1</td>\n",
       "      <td>1</td>\n",
       "      <td>400</td>\n",
       "    </tr>\n",
       "    <tr>\n",
       "      <th>3</th>\n",
       "      <td>4</td>\n",
       "      <td>0</td>\n",
       "      <td>23</td>\n",
       "      <td>59000</td>\n",
       "      <td>77</td>\n",
       "      <td>Lawyer</td>\n",
       "      <td>0</td>\n",
       "      <td>2</td>\n",
       "      <td>529</td>\n",
       "    </tr>\n",
       "    <tr>\n",
       "      <th>4</th>\n",
       "      <td>5</td>\n",
       "      <td>0</td>\n",
       "      <td>31</td>\n",
       "      <td>38000</td>\n",
       "      <td>40</td>\n",
       "      <td>Entertainment</td>\n",
       "      <td>2</td>\n",
       "      <td>6</td>\n",
       "      <td>961</td>\n",
       "    </tr>\n",
       "    <tr>\n",
       "      <th>...</th>\n",
       "      <td>...</td>\n",
       "      <td>...</td>\n",
       "      <td>...</td>\n",
       "      <td>...</td>\n",
       "      <td>...</td>\n",
       "      <td>...</td>\n",
       "      <td>...</td>\n",
       "      <td>...</td>\n",
       "      <td>...</td>\n",
       "    </tr>\n",
       "    <tr>\n",
       "      <th>1995</th>\n",
       "      <td>1996</td>\n",
       "      <td>0</td>\n",
       "      <td>71</td>\n",
       "      <td>184387</td>\n",
       "      <td>40</td>\n",
       "      <td>Artist</td>\n",
       "      <td>8</td>\n",
       "      <td>7</td>\n",
       "      <td>5041</td>\n",
       "    </tr>\n",
       "    <tr>\n",
       "      <th>1996</th>\n",
       "      <td>1997</td>\n",
       "      <td>0</td>\n",
       "      <td>91</td>\n",
       "      <td>73158</td>\n",
       "      <td>32</td>\n",
       "      <td>Doctor</td>\n",
       "      <td>7</td>\n",
       "      <td>7</td>\n",
       "      <td>8281</td>\n",
       "    </tr>\n",
       "    <tr>\n",
       "      <th>1997</th>\n",
       "      <td>1998</td>\n",
       "      <td>1</td>\n",
       "      <td>87</td>\n",
       "      <td>90961</td>\n",
       "      <td>14</td>\n",
       "      <td>Healthcare</td>\n",
       "      <td>9</td>\n",
       "      <td>2</td>\n",
       "      <td>7569</td>\n",
       "    </tr>\n",
       "    <tr>\n",
       "      <th>1998</th>\n",
       "      <td>1999</td>\n",
       "      <td>1</td>\n",
       "      <td>77</td>\n",
       "      <td>182109</td>\n",
       "      <td>4</td>\n",
       "      <td>Executive</td>\n",
       "      <td>7</td>\n",
       "      <td>2</td>\n",
       "      <td>5929</td>\n",
       "    </tr>\n",
       "    <tr>\n",
       "      <th>1999</th>\n",
       "      <td>2000</td>\n",
       "      <td>1</td>\n",
       "      <td>90</td>\n",
       "      <td>110610</td>\n",
       "      <td>52</td>\n",
       "      <td>Entertainment</td>\n",
       "      <td>5</td>\n",
       "      <td>2</td>\n",
       "      <td>8100</td>\n",
       "    </tr>\n",
       "  </tbody>\n",
       "</table>\n",
       "<p>2000 rows × 9 columns</p>\n",
       "</div>"
      ],
      "text/plain": [
       "      CustomerID  Gender  Age  AnnualIncome  Spending Score (1-100)  \\\n",
       "0              1       1   19         15000                      39   \n",
       "1              2       1   21         35000                      81   \n",
       "2              3       0   20         86000                       6   \n",
       "3              4       0   23         59000                      77   \n",
       "4              5       0   31         38000                      40   \n",
       "...          ...     ...  ...           ...                     ...   \n",
       "1995        1996       0   71        184387                      40   \n",
       "1996        1997       0   91         73158                      32   \n",
       "1997        1998       1   87         90961                      14   \n",
       "1998        1999       1   77        182109                       4   \n",
       "1999        2000       1   90        110610                      52   \n",
       "\n",
       "         Profession  Work Experience  Family Size  Age^2  \n",
       "0        Healthcare                1            4    361  \n",
       "1          Engineer                3            3    441  \n",
       "2          Engineer                1            1    400  \n",
       "3            Lawyer                0            2    529  \n",
       "4     Entertainment                2            6    961  \n",
       "...             ...              ...          ...    ...  \n",
       "1995         Artist                8            7   5041  \n",
       "1996         Doctor                7            7   8281  \n",
       "1997     Healthcare                9            2   7569  \n",
       "1998      Executive                7            2   5929  \n",
       "1999  Entertainment                5            2   8100  \n",
       "\n",
       "[2000 rows x 9 columns]"
      ]
     },
     "execution_count": 54,
     "metadata": {},
     "output_type": "execute_result"
    }
   ],
   "source": [
    "df['Age^2']  = df['Age']*df['Age']\n",
    "df"
   ]
  },
  {
   "cell_type": "markdown",
   "id": "bac236c5-8b86-46a4-bd38-d4f130cf9f7f",
   "metadata": {},
   "source": [
    "$$\n",
    "AnnualIncome = \\beta_0 + \\beta_1 * Gender + \\beta_2 * Age^2\n",
    "$$"
   ]
  },
  {
   "cell_type": "code",
   "execution_count": 55,
   "id": "b20ed136-49ac-4445-9627-a10438f5f61b",
   "metadata": {},
   "outputs": [
    {
     "data": {
      "text/plain": [
       "<AxesSubplot:xlabel='Age^2', ylabel='AnnualIncome'>"
      ]
     },
     "execution_count": 55,
     "metadata": {},
     "output_type": "execute_result"
    },
    {
     "data": {
      "image/png": "[encoded data removed]",
      "text/plain": [
       "<Figure size 432x288 with 1 Axes>"
      ]
     },
     "metadata": {
      "needs_background": "light"
     },
     "output_type": "display_data"
    }
   ],
   "source": [
    "sns.regplot(data = df, y = 'AnnualIncome', x = 'Age^2', ci=None, order = 2, line_kws ={\"color\":\"red\"})"
   ]
  },
  {
   "cell_type": "markdown",
   "id": "b849ecf3-6cab-4001-a662-7c97933fa43d",
   "metadata": {},
   "source": [
    "#### Мы изменили зависимость с линейной на квадратическую\n",
    "#### Итак, на данной модели можно наблюдать концентрацию значений наблюдений в начале координат, соответственно при использовании переменной второго порядка изменяется изгиб кривой (незначительно) и увеличивается точность предсказания. "
   ]
  },
  {
   "cell_type": "markdown",
   "id": "bc1fe950-34aa-46e2-84f4-850ee3998851",
   "metadata": {},
   "source": [
    "Перейдем к вычислению TSS, RSS, ESS"
   ]
  },
  {
   "cell_type": "code",
   "execution_count": 56,
   "id": "748ef29f-f076-4fd0-ba6c-bb518e65a89c",
   "metadata": {},
   "outputs": [
    {
     "data": {
      "text/plain": [
       "4182118327701.276"
      ]
     },
     "execution_count": 56,
     "metadata": {},
     "output_type": "execute_result"
    }
   ],
   "source": [
    "## TSS\n",
    "model.centered_tss.round(3)"
   ]
  },
  {
   "cell_type": "markdown",
   "id": "b13e9389-b44b-4e96-86bd-0a8a1e3828df",
   "metadata": {},
   "source": [
    "#### TSS = 4182118327701.276"
   ]
  },
  {
   "cell_type": "code",
   "execution_count": 57,
   "id": "f18c72c8-f9e7-4c97-bfd5-f9e5249c9e77",
   "metadata": {},
   "outputs": [
    {
     "data": {
      "text/plain": [
       "1998841648.713"
      ]
     },
     "execution_count": 57,
     "metadata": {},
     "output_type": "execute_result"
    }
   ],
   "source": [
    "## ESS\n",
    "model.ess.round(3)"
   ]
  },
  {
   "cell_type": "markdown",
   "id": "a91c8795-579f-4e35-813c-6481d0e504eb",
   "metadata": {},
   "source": [
    "#### ESS = 1998841648.713"
   ]
  },
  {
   "cell_type": "code",
   "execution_count": 58,
   "id": "6872e5cc-fa99-4f6e-9fd8-cf949e0ef269",
   "metadata": {},
   "outputs": [
    {
     "data": {
      "text/plain": [
       "4180119486052.563"
      ]
     },
     "execution_count": 58,
     "metadata": {},
     "output_type": "execute_result"
    }
   ],
   "source": [
    "## RSS\n",
    "RSS = model.ssr.round(3)\n",
    "RSS"
   ]
  },
  {
   "cell_type": "markdown",
   "id": "1e9bd592-6b51-4934-935f-5eea9ed8c321",
   "metadata": {},
   "source": [
    "#### RSS = 4180119486052.56"
   ]
  },
  {
   "cell_type": "code",
   "execution_count": 59,
   "id": "c77bb69f-389d-4842-a6bb-47e109485dd1",
   "metadata": {},
   "outputs": [
    {
     "data": {
      "text/plain": [
       "0.00048"
      ]
     },
     "execution_count": 59,
     "metadata": {},
     "output_type": "execute_result"
    }
   ],
   "source": [
    "# R^2\n",
    "model.rsquared.round(5)"
   ]
  },
  {
   "cell_type": "markdown",
   "id": "ca961a27-0fe6-4fb3-98e7-75700af778b4",
   "metadata": {},
   "source": [
    "#### R^2 = 0.00048"
   ]
  },
  {
   "cell_type": "markdown",
   "id": "6bf1157e-ef97-4d04-b863-dcf38af324db",
   "metadata": {
    "tags": []
   },
   "source": [
    "### Так как значение коэффициента детерминации близко к 0, следовательно модель недостаточно точная"
   ]
  },
  {
   "cell_type": "code",
   "execution_count": 60,
   "id": "d753deab-427d-4ac1-b666-ddc58f75817d",
   "metadata": {
    "tags": []
   },
   "outputs": [
    {
     "data": {
      "text/html": [
       "<table class=\"simpletable\">\n",
       "<caption>OLS Regression Results</caption>\n",
       "<tr>\n",
       "  <th>Dep. Variable:</th>      <td>AnnualIncome</td>   <th>  R-squared:         </th> <td>   0.000</td> \n",
       "</tr>\n",
       "<tr>\n",
       "  <th>Model:</th>                   <td>OLS</td>       <th>  Adj. R-squared:    </th> <td>  -0.001</td> \n",
       "</tr>\n",
       "<tr>\n",
       "  <th>Method:</th>             <td>Least Squares</td>  <th>  F-statistic:       </th> <td>  0.4775</td> \n",
       "</tr>\n",
       "<tr>\n",
       "  <th>Date:</th>             <td>Thu, 11 May 2023</td> <th>  Prob (F-statistic):</th>  <td> 0.620</td>  \n",
       "</tr>\n",
       "<tr>\n",
       "  <th>Time:</th>                 <td>18:45:34</td>     <th>  Log-Likelihood:    </th> <td> -24298.</td> \n",
       "</tr>\n",
       "<tr>\n",
       "  <th>No. Observations:</th>      <td>  2000</td>      <th>  AIC:               </th> <td>4.860e+04</td>\n",
       "</tr>\n",
       "<tr>\n",
       "  <th>Df Residuals:</th>          <td>  1997</td>      <th>  BIC:               </th> <td>4.862e+04</td>\n",
       "</tr>\n",
       "<tr>\n",
       "  <th>Df Model:</th>              <td>     2</td>      <th>                     </th>     <td> </td>    \n",
       "</tr>\n",
       "<tr>\n",
       "  <th>Covariance Type:</th>      <td>nonrobust</td>    <th>                     </th>     <td> </td>    \n",
       "</tr>\n",
       "</table>\n",
       "<table class=\"simpletable\">\n",
       "<tr>\n",
       "      <td></td>         <th>coef</th>     <th>std err</th>      <th>t</th>      <th>P>|t|</th>  <th>[0.025</th>    <th>0.975]</th>  \n",
       "</tr>\n",
       "<tr>\n",
       "  <th>Intercept</th> <td> 1.089e+05</td> <td> 2202.995</td> <td>   49.422</td> <td> 0.000</td> <td> 1.05e+05</td> <td> 1.13e+05</td>\n",
       "</tr>\n",
       "<tr>\n",
       "  <th>Age</th>       <td>   34.3507</td> <td>   35.994</td> <td>    0.954</td> <td> 0.340</td> <td>  -36.240</td> <td>  104.941</td>\n",
       "</tr>\n",
       "<tr>\n",
       "  <th>Gender</th>    <td>  426.0398</td> <td> 2082.443</td> <td>    0.205</td> <td> 0.838</td> <td>-3657.949</td> <td> 4510.028</td>\n",
       "</tr>\n",
       "</table>\n",
       "<table class=\"simpletable\">\n",
       "<tr>\n",
       "  <th>Omnibus:</th>       <td>210.225</td> <th>  Durbin-Watson:     </th> <td>   1.420</td>\n",
       "</tr>\n",
       "<tr>\n",
       "  <th>Prob(Omnibus):</th> <td> 0.000</td>  <th>  Jarque-Bera (JB):  </th> <td>  63.812</td>\n",
       "</tr>\n",
       "<tr>\n",
       "  <th>Skew:</th>          <td>-0.113</td>  <th>  Prob(JB):          </th> <td>1.39e-14</td>\n",
       "</tr>\n",
       "<tr>\n",
       "  <th>Kurtosis:</th>      <td> 2.154</td>  <th>  Cond. No.          </th> <td>    140.</td>\n",
       "</tr>\n",
       "</table><br/><br/>Notes:<br/>[1] Standard Errors assume that the covariance matrix of the errors is correctly specified."
      ],
      "text/plain": [
       "<class 'statsmodels.iolib.summary.Summary'>\n",
       "\"\"\"\n",
       "                            OLS Regression Results                            \n",
       "==============================================================================\n",
       "Dep. Variable:           AnnualIncome   R-squared:                       0.000\n",
       "Model:                            OLS   Adj. R-squared:                 -0.001\n",
       "Method:                 Least Squares   F-statistic:                    0.4775\n",
       "Date:                Thu, 11 May 2023   Prob (F-statistic):              0.620\n",
       "Time:                        18:45:34   Log-Likelihood:                -24298.\n",
       "No. Observations:                2000   AIC:                         4.860e+04\n",
       "Df Residuals:                    1997   BIC:                         4.862e+04\n",
       "Df Model:                           2                                         \n",
       "Covariance Type:            nonrobust                                         \n",
       "==============================================================================\n",
       "                 coef    std err          t      P>|t|      [0.025      0.975]\n",
       "------------------------------------------------------------------------------\n",
       "Intercept   1.089e+05   2202.995     49.422      0.000    1.05e+05    1.13e+05\n",
       "Age           34.3507     35.994      0.954      0.340     -36.240     104.941\n",
       "Gender       426.0398   2082.443      0.205      0.838   -3657.949    4510.028\n",
       "==============================================================================\n",
       "Omnibus:                      210.225   Durbin-Watson:                   1.420\n",
       "Prob(Omnibus):                  0.000   Jarque-Bera (JB):               63.812\n",
       "Skew:                          -0.113   Prob(JB):                     1.39e-14\n",
       "Kurtosis:                       2.154   Cond. No.                         140.\n",
       "==============================================================================\n",
       "\n",
       "Notes:\n",
       "[1] Standard Errors assume that the covariance matrix of the errors is correctly specified.\n",
       "\"\"\""
      ]
     },
     "execution_count": 60,
     "metadata": {},
     "output_type": "execute_result"
    }
   ],
   "source": [
    "models = smf.ols(data=df, formula='AnnualIncome~Age+Gender').fit()\n",
    "models.summary()"
   ]
  },
  {
   "cell_type": "code",
   "execution_count": 61,
   "id": "c77b68e7-995a-4527-802b-66813eacf233",
   "metadata": {},
   "outputs": [
    {
     "data": {
      "text/html": [
       "<table class=\"simpletable\">\n",
       "<tr>\n",
       "      <td></td>         <th>coef</th>     <th>std err</th>      <th>t</th>      <th>P>|t|</th>  <th>[0.025</th>    <th>0.975]</th>  \n",
       "</tr>\n",
       "<tr>\n",
       "  <th>Intercept</th> <td> 1.089e+05</td> <td> 2202.995</td> <td>   49.422</td> <td> 0.000</td> <td> 1.05e+05</td> <td> 1.13e+05</td>\n",
       "</tr>\n",
       "<tr>\n",
       "  <th>Age</th>       <td>   34.3507</td> <td>   35.994</td> <td>    0.954</td> <td> 0.340</td> <td>  -36.240</td> <td>  104.941</td>\n",
       "</tr>\n",
       "<tr>\n",
       "  <th>Gender</th>    <td>  426.0398</td> <td> 2082.443</td> <td>    0.205</td> <td> 0.838</td> <td>-3657.949</td> <td> 4510.028</td>\n",
       "</tr>\n",
       "</table>"
      ],
      "text/plain": [
       "<class 'statsmodels.iolib.table.SimpleTable'>"
      ]
     },
     "execution_count": 61,
     "metadata": {},
     "output_type": "execute_result"
    }
   ],
   "source": [
    "models = smf.ols(data=df, formula='AnnualIncome~Age+Gender').fit()\n",
    "models.summary(alpha = 0.05).tables[1]"
   ]
  },
  {
   "cell_type": "code",
   "execution_count": 62,
   "id": "6d7186eb-0075-4d64-9e8b-d9460b5d4fc8",
   "metadata": {},
   "outputs": [],
   "source": [
    "data_string = ''' coef std.err\n",
    "Intercept    108876.614 2202.995\n",
    "Age              34.351 35.994\n",
    "Gender          426.040 2082.443'''"
   ]
  },
  {
   "cell_type": "code",
   "execution_count": 63,
   "id": "eec873e4-8e51-4952-9b27-5b01a942e65f",
   "metadata": {},
   "outputs": [
    {
     "data": {
      "text/html": [
       "<div>\n",
       "<style scoped>\n",
       "    .dataframe tbody tr th:only-of-type {\n",
       "        vertical-align: middle;\n",
       "    }\n",
       "\n",
       "    .dataframe tbody tr th {\n",
       "        vertical-align: top;\n",
       "    }\n",
       "\n",
       "    .dataframe thead th {\n",
       "        text-align: right;\n",
       "    }\n",
       "</style>\n",
       "<table border=\"1\" class=\"dataframe\">\n",
       "  <thead>\n",
       "    <tr style=\"text-align: right;\">\n",
       "      <th></th>\n",
       "      <th>coef</th>\n",
       "      <th>std.err</th>\n",
       "    </tr>\n",
       "  </thead>\n",
       "  <tbody>\n",
       "    <tr>\n",
       "      <th>Intercept</th>\n",
       "      <td>108876.614</td>\n",
       "      <td>2202.995</td>\n",
       "    </tr>\n",
       "    <tr>\n",
       "      <th>Age</th>\n",
       "      <td>34.351</td>\n",
       "      <td>35.994</td>\n",
       "    </tr>\n",
       "    <tr>\n",
       "      <th>Gender</th>\n",
       "      <td>426.040</td>\n",
       "      <td>2082.443</td>\n",
       "    </tr>\n",
       "  </tbody>\n",
       "</table>\n",
       "</div>"
      ],
      "text/plain": [
       "                 coef   std.err\n",
       "Intercept  108876.614  2202.995\n",
       "Age            34.351    35.994\n",
       "Gender        426.040  2082.443"
      ]
     },
     "execution_count": 63,
     "metadata": {},
     "output_type": "execute_result"
    }
   ],
   "source": [
    "df = pd.read_csv(io.StringIO(data_string), sep='\\s+')\n",
    "df"
   ]
  },
  {
   "cell_type": "code",
   "execution_count": 64,
   "id": "c8599be9-c2e5-4799-ad1c-388194a1d393",
   "metadata": {},
   "outputs": [
    {
     "data": {
      "text/html": [
       "<div>\n",
       "<style scoped>\n",
       "    .dataframe tbody tr th:only-of-type {\n",
       "        vertical-align: middle;\n",
       "    }\n",
       "\n",
       "    .dataframe tbody tr th {\n",
       "        vertical-align: top;\n",
       "    }\n",
       "\n",
       "    .dataframe thead th {\n",
       "        text-align: right;\n",
       "    }\n",
       "</style>\n",
       "<table border=\"1\" class=\"dataframe\">\n",
       "  <thead>\n",
       "    <tr style=\"text-align: right;\">\n",
       "      <th></th>\n",
       "      <th>coef</th>\n",
       "      <th>std.err</th>\n",
       "      <th>t_nabl</th>\n",
       "    </tr>\n",
       "  </thead>\n",
       "  <tbody>\n",
       "    <tr>\n",
       "      <th>Intercept</th>\n",
       "      <td>108876.614</td>\n",
       "      <td>2202.995</td>\n",
       "      <td>49.422089</td>\n",
       "    </tr>\n",
       "    <tr>\n",
       "      <th>Age</th>\n",
       "      <td>34.351</td>\n",
       "      <td>35.994</td>\n",
       "      <td>0.954354</td>\n",
       "    </tr>\n",
       "    <tr>\n",
       "      <th>Gender</th>\n",
       "      <td>426.040</td>\n",
       "      <td>2082.443</td>\n",
       "      <td>0.204587</td>\n",
       "    </tr>\n",
       "  </tbody>\n",
       "</table>\n",
       "</div>"
      ],
      "text/plain": [
       "                 coef   std.err     t_nabl\n",
       "Intercept  108876.614  2202.995  49.422089\n",
       "Age            34.351    35.994   0.954354\n",
       "Gender        426.040  2082.443   0.204587"
      ]
     },
     "execution_count": 64,
     "metadata": {},
     "output_type": "execute_result"
    }
   ],
   "source": [
    "df['t_nabl'] = df['coef']/df['std.err']\n",
    "df"
   ]
  },
  {
   "cell_type": "code",
   "execution_count": 65,
   "id": "57fc2fa7-7feb-4088-8388-a1305ab24575",
   "metadata": {},
   "outputs": [
    {
     "data": {
      "text/plain": [
       "1.9659726084694749"
      ]
     },
     "execution_count": 65,
     "metadata": {},
     "output_type": "execute_result"
    }
   ],
   "source": [
    "t_cr = stats.t.ppf(1-0.05/2, 400 - 3 - 1)\n",
    "t_cr"
   ]
  },
  {
   "cell_type": "markdown",
   "id": "e721cfe8-7708-4b5f-8f60-0dcd1ac04b75",
   "metadata": {},
   "source": [
    "$$\n",
    "t_{critical}=1.966\n",
    "$$"
   ]
  },
  {
   "cell_type": "code",
   "execution_count": 66,
   "id": "a5b7b627-1fe2-406b-aea0-0291597dcf42",
   "metadata": {},
   "outputs": [
    {
     "data": {
      "text/html": [
       "<div>\n",
       "<style scoped>\n",
       "    .dataframe tbody tr th:only-of-type {\n",
       "        vertical-align: middle;\n",
       "    }\n",
       "\n",
       "    .dataframe tbody tr th {\n",
       "        vertical-align: top;\n",
       "    }\n",
       "\n",
       "    .dataframe thead th {\n",
       "        text-align: right;\n",
       "    }\n",
       "</style>\n",
       "<table border=\"1\" class=\"dataframe\">\n",
       "  <thead>\n",
       "    <tr style=\"text-align: right;\">\n",
       "      <th></th>\n",
       "      <th>coef</th>\n",
       "      <th>std.err</th>\n",
       "      <th>t_nabl</th>\n",
       "      <th>Znachimosty</th>\n",
       "    </tr>\n",
       "  </thead>\n",
       "  <tbody>\n",
       "    <tr>\n",
       "      <th>Intercept</th>\n",
       "      <td>108876.614</td>\n",
       "      <td>2202.995</td>\n",
       "      <td>49.422089</td>\n",
       "      <td>znachim</td>\n",
       "    </tr>\n",
       "    <tr>\n",
       "      <th>Age</th>\n",
       "      <td>34.351</td>\n",
       "      <td>35.994</td>\n",
       "      <td>0.954354</td>\n",
       "      <td>ne znachim</td>\n",
       "    </tr>\n",
       "    <tr>\n",
       "      <th>Gender</th>\n",
       "      <td>426.040</td>\n",
       "      <td>2082.443</td>\n",
       "      <td>0.204587</td>\n",
       "      <td>ne znachim</td>\n",
       "    </tr>\n",
       "  </tbody>\n",
       "</table>\n",
       "</div>"
      ],
      "text/plain": [
       "                 coef   std.err     t_nabl Znachimosty\n",
       "Intercept  108876.614  2202.995  49.422089     znachim\n",
       "Age            34.351    35.994   0.954354  ne znachim\n",
       "Gender        426.040  2082.443   0.204587  ne znachim"
      ]
     },
     "execution_count": 66,
     "metadata": {},
     "output_type": "execute_result"
    }
   ],
   "source": [
    "df['Znachimosty'] = df.apply(lambda x: 'znachim' if np.abs(x['t_nabl']) >t_cr else 'ne znachim', axis = 1)\n",
    "df"
   ]
  },
  {
   "cell_type": "markdown",
   "id": "2c1e6359-493c-4df5-8e2a-1da94acf7c36",
   "metadata": {},
   "source": [
    " ##### коэффициент Intercept является значимым"
   ]
  },
  {
   "cell_type": "markdown",
   "id": "036ea71f-9f5e-4e50-8456-a132508670cd",
   "metadata": {
    "tags": []
   },
   "source": [
    "## перейдем к F-test"
   ]
  },
  {
   "cell_type": "code",
   "execution_count": 44,
   "id": "9615243c-6a45-443d-b7a2-e3d92665bff0",
   "metadata": {
    "tags": []
   },
   "outputs": [
    {
     "data": {
      "text/html": [
       "<div>\n",
       "<style scoped>\n",
       "    .dataframe tbody tr th:only-of-type {\n",
       "        vertical-align: middle;\n",
       "    }\n",
       "\n",
       "    .dataframe tbody tr th {\n",
       "        vertical-align: top;\n",
       "    }\n",
       "\n",
       "    .dataframe thead th {\n",
       "        text-align: right;\n",
       "    }\n",
       "</style>\n",
       "<table border=\"1\" class=\"dataframe\">\n",
       "  <thead>\n",
       "    <tr style=\"text-align: right;\">\n",
       "      <th></th>\n",
       "      <th>CustomerID</th>\n",
       "      <th>Gender</th>\n",
       "      <th>Age</th>\n",
       "      <th>AnnualIncome</th>\n",
       "      <th>SpendingScore</th>\n",
       "      <th>Profession</th>\n",
       "      <th>WorkExperience</th>\n",
       "      <th>FamilySize</th>\n",
       "    </tr>\n",
       "  </thead>\n",
       "  <tbody>\n",
       "    <tr>\n",
       "      <th>0</th>\n",
       "      <td>1</td>\n",
       "      <td>Male</td>\n",
       "      <td>19</td>\n",
       "      <td>15000</td>\n",
       "      <td>39</td>\n",
       "      <td>Healthcare</td>\n",
       "      <td>1</td>\n",
       "      <td>4</td>\n",
       "    </tr>\n",
       "    <tr>\n",
       "      <th>1</th>\n",
       "      <td>2</td>\n",
       "      <td>Male</td>\n",
       "      <td>21</td>\n",
       "      <td>35000</td>\n",
       "      <td>81</td>\n",
       "      <td>Engineer</td>\n",
       "      <td>3</td>\n",
       "      <td>3</td>\n",
       "    </tr>\n",
       "    <tr>\n",
       "      <th>2</th>\n",
       "      <td>3</td>\n",
       "      <td>Female</td>\n",
       "      <td>20</td>\n",
       "      <td>86000</td>\n",
       "      <td>6</td>\n",
       "      <td>Engineer</td>\n",
       "      <td>1</td>\n",
       "      <td>1</td>\n",
       "    </tr>\n",
       "    <tr>\n",
       "      <th>3</th>\n",
       "      <td>4</td>\n",
       "      <td>Female</td>\n",
       "      <td>23</td>\n",
       "      <td>59000</td>\n",
       "      <td>77</td>\n",
       "      <td>Lawyer</td>\n",
       "      <td>0</td>\n",
       "      <td>2</td>\n",
       "    </tr>\n",
       "    <tr>\n",
       "      <th>4</th>\n",
       "      <td>5</td>\n",
       "      <td>Female</td>\n",
       "      <td>31</td>\n",
       "      <td>38000</td>\n",
       "      <td>40</td>\n",
       "      <td>Entertainment</td>\n",
       "      <td>2</td>\n",
       "      <td>6</td>\n",
       "    </tr>\n",
       "    <tr>\n",
       "      <th>...</th>\n",
       "      <td>...</td>\n",
       "      <td>...</td>\n",
       "      <td>...</td>\n",
       "      <td>...</td>\n",
       "      <td>...</td>\n",
       "      <td>...</td>\n",
       "      <td>...</td>\n",
       "      <td>...</td>\n",
       "    </tr>\n",
       "    <tr>\n",
       "      <th>1995</th>\n",
       "      <td>1996</td>\n",
       "      <td>Female</td>\n",
       "      <td>71</td>\n",
       "      <td>184387</td>\n",
       "      <td>40</td>\n",
       "      <td>Artist</td>\n",
       "      <td>8</td>\n",
       "      <td>7</td>\n",
       "    </tr>\n",
       "    <tr>\n",
       "      <th>1996</th>\n",
       "      <td>1997</td>\n",
       "      <td>Female</td>\n",
       "      <td>91</td>\n",
       "      <td>73158</td>\n",
       "      <td>32</td>\n",
       "      <td>Doctor</td>\n",
       "      <td>7</td>\n",
       "      <td>7</td>\n",
       "    </tr>\n",
       "    <tr>\n",
       "      <th>1997</th>\n",
       "      <td>1998</td>\n",
       "      <td>Male</td>\n",
       "      <td>87</td>\n",
       "      <td>90961</td>\n",
       "      <td>14</td>\n",
       "      <td>Healthcare</td>\n",
       "      <td>9</td>\n",
       "      <td>2</td>\n",
       "    </tr>\n",
       "    <tr>\n",
       "      <th>1998</th>\n",
       "      <td>1999</td>\n",
       "      <td>Male</td>\n",
       "      <td>77</td>\n",
       "      <td>182109</td>\n",
       "      <td>4</td>\n",
       "      <td>Executive</td>\n",
       "      <td>7</td>\n",
       "      <td>2</td>\n",
       "    </tr>\n",
       "    <tr>\n",
       "      <th>1999</th>\n",
       "      <td>2000</td>\n",
       "      <td>Male</td>\n",
       "      <td>90</td>\n",
       "      <td>110610</td>\n",
       "      <td>52</td>\n",
       "      <td>Entertainment</td>\n",
       "      <td>5</td>\n",
       "      <td>2</td>\n",
       "    </tr>\n",
       "  </tbody>\n",
       "</table>\n",
       "<p>2000 rows × 8 columns</p>\n",
       "</div>"
      ],
      "text/plain": [
       "      CustomerID  Gender  Age  AnnualIncome  SpendingScore     Profession  \\\n",
       "0              1    Male   19         15000             39     Healthcare   \n",
       "1              2    Male   21         35000             81       Engineer   \n",
       "2              3  Female   20         86000              6       Engineer   \n",
       "3              4  Female   23         59000             77         Lawyer   \n",
       "4              5  Female   31         38000             40  Entertainment   \n",
       "...          ...     ...  ...           ...            ...            ...   \n",
       "1995        1996  Female   71        184387             40         Artist   \n",
       "1996        1997  Female   91         73158             32         Doctor   \n",
       "1997        1998    Male   87         90961             14     Healthcare   \n",
       "1998        1999    Male   77        182109              4      Executive   \n",
       "1999        2000    Male   90        110610             52  Entertainment   \n",
       "\n",
       "      WorkExperience  FamilySize  \n",
       "0                  1           4  \n",
       "1                  3           3  \n",
       "2                  1           1  \n",
       "3                  0           2  \n",
       "4                  2           6  \n",
       "...              ...         ...  \n",
       "1995               8           7  \n",
       "1996               7           7  \n",
       "1997               9           2  \n",
       "1998               7           2  \n",
       "1999               5           2  \n",
       "\n",
       "[2000 rows x 8 columns]"
      ]
     },
     "execution_count": 44,
     "metadata": {},
     "output_type": "execute_result"
    }
   ],
   "source": [
    "df = df.rename(columns={'Annual Income ($)':'AnnualIncome', 'Work Experience' : 'WorkExperience', 'Family Size':'FamilySize', 'Spending Score (1-100)' : 'SpendingScore'})\n",
    "df"
   ]
  },
  {
   "cell_type": "markdown",
   "id": "8753894d-1561-4c28-b67c-97b3d4c64456",
   "metadata": {
    "tags": []
   },
   "source": [
    "$$\n",
    "H0: \\beta_{AnnualIncome}=\\beta_{Gender}=\\beta_{Age}=\\beta_{WorkExperience}=\\beta_{FamilySize}=0\n",
    "$$\n",
    "$$\n",
    "H1: \\beta_{AnnualIncome}^2+\\beta_{Gender}^2+\\beta_{Age}^2+\\beta_{WorkExperience}^2+\\beta_{FamilySize}^2>0\n",
    "$$"
   ]
  },
  {
   "cell_type": "code",
   "execution_count": 47,
   "id": "8eafc98c-dc3e-4361-bedd-78f1ae73b236",
   "metadata": {},
   "outputs": [
    {
     "data": {
      "text/plain": [
       "Intercept         96918.549\n",
       "Gender[T.Male]      255.630\n",
       "Age                  30.787\n",
       "WorkExperience     1029.384\n",
       "FamilySize         2117.250\n",
       "dtype: float64"
      ]
     },
     "execution_count": 47,
     "metadata": {},
     "output_type": "execute_result"
    }
   ],
   "source": [
    "model = smf.ols(formula = 'AnnualIncome~Gender+Age+WorkExperience+FamilySize', data=df).fit()\n",
    "model.params.round(3)"
   ]
  },
  {
   "cell_type": "code",
   "execution_count": 49,
   "id": "251a8408-01d4-44e8-92d1-10bc1a1b009e",
   "metadata": {},
   "outputs": [
    {
     "data": {
      "text/plain": [
       "4111965533286.597"
      ]
     },
     "execution_count": 49,
     "metadata": {},
     "output_type": "execute_result"
    }
   ],
   "source": [
    "# RSS \n",
    "RSS2 = model.ssr.round(3)\n",
    "RSS2"
   ]
  },
  {
   "cell_type": "code",
   "execution_count": 50,
   "id": "04adbdb2-f4c4-40c0-ae88-a044b7444088",
   "metadata": {},
   "outputs": [
    {
     "data": {
      "text/plain": [
       "4182118327701.276"
      ]
     },
     "execution_count": 50,
     "metadata": {},
     "output_type": "execute_result"
    }
   ],
   "source": [
    "# TSS \n",
    "TSS2 = model.centered_tss.round(3)\n",
    "TSS2"
   ]
  },
  {
   "cell_type": "code",
   "execution_count": 51,
   "id": "7701b4ba-dca9-4b21-b9aa-3ac3e989702c",
   "metadata": {},
   "outputs": [
    {
     "data": {
      "text/plain": [
       "0.983225535741061"
      ]
     },
     "execution_count": 51,
     "metadata": {},
     "output_type": "execute_result"
    }
   ],
   "source": [
    "#R^2 \n",
    "R2_2 = RSS2/TSS2\n",
    "R2_2"
   ]
  },
  {
   "cell_type": "code",
   "execution_count": 52,
   "id": "fad22f0a-12f5-4d4e-9d56-41b2af060df6",
   "metadata": {},
   "outputs": [
    {
     "name": "stdout",
     "output_type": "stream",
     "text": [
      "0.576 0.98\n"
     ]
    }
   ],
   "source": [
    "unrest, rest = np.float_(re.findall(r'([-+]?\\d+.\\d+)','R2                      0.576          0.98'))\n",
    "print (unrest, rest)"
   ]
  },
  {
   "cell_type": "code",
   "execution_count": 53,
   "id": "86361e7b-82b9-46df-b312-189888d7f1a5",
   "metadata": {},
   "outputs": [
    {
     "data": {
      "text/plain": [
       "-1187.941037735849"
      ]
     },
     "execution_count": 53,
     "metadata": {},
     "output_type": "execute_result"
    }
   ],
   "source": [
    "F_obs = (unrest - rest)/(1-unrest)*(5000 - 13)/4\n",
    "F_obs"
   ]
  },
  {
   "cell_type": "code",
   "execution_count": 54,
   "id": "f134f357-35c8-4ec1-9c02-e408a32899d3",
   "metadata": {},
   "outputs": [
    {
     "data": {
      "text/plain": [
       "2.373713672224553"
      ]
     },
     "execution_count": 54,
     "metadata": {},
     "output_type": "execute_result"
    }
   ],
   "source": [
    "alpha = 0.05\n",
    "F_cr = stats.f.ppf(1-alpha, 4, 5000-13)\n",
    "F_cr"
   ]
  },
  {
   "cell_type": "markdown",
   "id": "a5b2b080-8100-4cdc-b37d-ead2a077f448",
   "metadata": {},
   "source": [
    "$$\n",
    "F_{obs}<F{cr}; \n",
    "$$"
   ]
  },
  {
   "cell_type": "markdown",
   "id": "67d99851-228f-424f-a749-6458052cc0a7",
   "metadata": {},
   "source": [
    "Вывод:Данные согласуются с гипотезорй Н0"
   ]
  },
  {
   "cell_type": "markdown",
   "id": "2972e11e-02a3-4ffc-aecd-dc6f9fd83a37",
   "metadata": {},
   "source": [
    "## Доверительные интервалы"
   ]
  },
  {
   "cell_type": "code",
   "execution_count": 87,
   "id": "c8b7f28a-3fcb-4eab-8187-a1744a94882b",
   "metadata": {},
   "outputs": [
    {
     "data": {
      "text/html": [
       "<table class=\"simpletable\">\n",
       "<caption>OLS Regression Results</caption>\n",
       "<tr>\n",
       "  <th>Dep. Variable:</th>      <td>AnnualIncome</td>   <th>  R-squared:         </th> <td>   0.000</td> \n",
       "</tr>\n",
       "<tr>\n",
       "  <th>Model:</th>                   <td>OLS</td>       <th>  Adj. R-squared:    </th> <td>  -0.001</td> \n",
       "</tr>\n",
       "<tr>\n",
       "  <th>Method:</th>             <td>Least Squares</td>  <th>  F-statistic:       </th> <td>  0.4775</td> \n",
       "</tr>\n",
       "<tr>\n",
       "  <th>Date:</th>             <td>Thu, 11 May 2023</td> <th>  Prob (F-statistic):</th>  <td> 0.620</td>  \n",
       "</tr>\n",
       "<tr>\n",
       "  <th>Time:</th>                 <td>19:17:24</td>     <th>  Log-Likelihood:    </th> <td> -24298.</td> \n",
       "</tr>\n",
       "<tr>\n",
       "  <th>No. Observations:</th>      <td>  2000</td>      <th>  AIC:               </th> <td>4.860e+04</td>\n",
       "</tr>\n",
       "<tr>\n",
       "  <th>Df Residuals:</th>          <td>  1997</td>      <th>  BIC:               </th> <td>4.862e+04</td>\n",
       "</tr>\n",
       "<tr>\n",
       "  <th>Df Model:</th>              <td>     2</td>      <th>                     </th>     <td> </td>    \n",
       "</tr>\n",
       "<tr>\n",
       "  <th>Covariance Type:</th>      <td>nonrobust</td>    <th>                     </th>     <td> </td>    \n",
       "</tr>\n",
       "</table>\n",
       "<table class=\"simpletable\">\n",
       "<tr>\n",
       "         <td></td>           <th>coef</th>     <th>std err</th>      <th>t</th>      <th>P>|t|</th>  <th>[0.025</th>    <th>0.975]</th>  \n",
       "</tr>\n",
       "<tr>\n",
       "  <th>Intercept</th>      <td> 1.089e+05</td> <td> 2202.995</td> <td>   49.422</td> <td> 0.000</td> <td> 1.05e+05</td> <td> 1.13e+05</td>\n",
       "</tr>\n",
       "<tr>\n",
       "  <th>Gender[T.Male]</th> <td>  426.0398</td> <td> 2082.443</td> <td>    0.205</td> <td> 0.838</td> <td>-3657.949</td> <td> 4510.028</td>\n",
       "</tr>\n",
       "<tr>\n",
       "  <th>Age</th>            <td>   34.3507</td> <td>   35.994</td> <td>    0.954</td> <td> 0.340</td> <td>  -36.240</td> <td>  104.941</td>\n",
       "</tr>\n",
       "</table>\n",
       "<table class=\"simpletable\">\n",
       "<tr>\n",
       "  <th>Omnibus:</th>       <td>210.225</td> <th>  Durbin-Watson:     </th> <td>   1.420</td>\n",
       "</tr>\n",
       "<tr>\n",
       "  <th>Prob(Omnibus):</th> <td> 0.000</td>  <th>  Jarque-Bera (JB):  </th> <td>  63.812</td>\n",
       "</tr>\n",
       "<tr>\n",
       "  <th>Skew:</th>          <td>-0.113</td>  <th>  Prob(JB):          </th> <td>1.39e-14</td>\n",
       "</tr>\n",
       "<tr>\n",
       "  <th>Kurtosis:</th>      <td> 2.154</td>  <th>  Cond. No.          </th> <td>    140.</td>\n",
       "</tr>\n",
       "</table><br/><br/>Notes:<br/>[1] Standard Errors assume that the covariance matrix of the errors is correctly specified."
      ],
      "text/plain": [
       "<class 'statsmodels.iolib.summary.Summary'>\n",
       "\"\"\"\n",
       "                            OLS Regression Results                            \n",
       "==============================================================================\n",
       "Dep. Variable:           AnnualIncome   R-squared:                       0.000\n",
       "Model:                            OLS   Adj. R-squared:                 -0.001\n",
       "Method:                 Least Squares   F-statistic:                    0.4775\n",
       "Date:                Thu, 11 May 2023   Prob (F-statistic):              0.620\n",
       "Time:                        19:17:24   Log-Likelihood:                -24298.\n",
       "No. Observations:                2000   AIC:                         4.860e+04\n",
       "Df Residuals:                    1997   BIC:                         4.862e+04\n",
       "Df Model:                           2                                         \n",
       "Covariance Type:            nonrobust                                         \n",
       "==================================================================================\n",
       "                     coef    std err          t      P>|t|      [0.025      0.975]\n",
       "----------------------------------------------------------------------------------\n",
       "Intercept       1.089e+05   2202.995     49.422      0.000    1.05e+05    1.13e+05\n",
       "Gender[T.Male]   426.0398   2082.443      0.205      0.838   -3657.949    4510.028\n",
       "Age               34.3507     35.994      0.954      0.340     -36.240     104.941\n",
       "==============================================================================\n",
       "Omnibus:                      210.225   Durbin-Watson:                   1.420\n",
       "Prob(Omnibus):                  0.000   Jarque-Bera (JB):               63.812\n",
       "Skew:                          -0.113   Prob(JB):                     1.39e-14\n",
       "Kurtosis:                       2.154   Cond. No.                         140.\n",
       "==============================================================================\n",
       "\n",
       "Notes:\n",
       "[1] Standard Errors assume that the covariance matrix of the errors is correctly specified.\n",
       "\"\"\""
      ]
     },
     "execution_count": 87,
     "metadata": {},
     "output_type": "execute_result"
    }
   ],
   "source": [
    "models = smf.ols(data=df, formula='AnnualIncome~Age+Gender').fit()\n",
    "models.summary()"
   ]
  },
  {
   "cell_type": "code",
   "execution_count": 88,
   "id": "0d1332d3-fb40-4f64-b057-9608748215fc",
   "metadata": {},
   "outputs": [
    {
     "data": {
      "text/html": [
       "<div>\n",
       "<style scoped>\n",
       "    .dataframe tbody tr th:only-of-type {\n",
       "        vertical-align: middle;\n",
       "    }\n",
       "\n",
       "    .dataframe tbody tr th {\n",
       "        vertical-align: top;\n",
       "    }\n",
       "\n",
       "    .dataframe thead th {\n",
       "        text-align: right;\n",
       "    }\n",
       "</style>\n",
       "<table border=\"1\" class=\"dataframe\">\n",
       "  <thead>\n",
       "    <tr style=\"text-align: right;\">\n",
       "      <th></th>\n",
       "      <th>coef</th>\n",
       "      <th>std err</th>\n",
       "      <th>t</th>\n",
       "      <th>P&gt;|t|</th>\n",
       "      <th>[0.025</th>\n",
       "      <th>0.975]</th>\n",
       "    </tr>\n",
       "  </thead>\n",
       "  <tbody>\n",
       "    <tr>\n",
       "      <th>Intercept</th>\n",
       "      <td>108900.0000</td>\n",
       "      <td>2202.995</td>\n",
       "      <td>49.422</td>\n",
       "      <td>0.000</td>\n",
       "      <td>105000.000</td>\n",
       "      <td>113000.000</td>\n",
       "    </tr>\n",
       "    <tr>\n",
       "      <th>Gender</th>\n",
       "      <td>426.0398</td>\n",
       "      <td>2082.443</td>\n",
       "      <td>0.205</td>\n",
       "      <td>0.838</td>\n",
       "      <td>-3657.949</td>\n",
       "      <td>4510.028</td>\n",
       "    </tr>\n",
       "    <tr>\n",
       "      <th>Age</th>\n",
       "      <td>34.3507</td>\n",
       "      <td>35.994</td>\n",
       "      <td>0.954</td>\n",
       "      <td>0.340</td>\n",
       "      <td>-36.240</td>\n",
       "      <td>104.941</td>\n",
       "    </tr>\n",
       "  </tbody>\n",
       "</table>\n",
       "</div>"
      ],
      "text/plain": [
       "                  coef   std err       t  P>|t|      [0.025      0.975]\n",
       "Intercept  108900.0000  2202.995  49.422  0.000  105000.000  113000.000\n",
       "Gender        426.0398  2082.443   0.205  0.838   -3657.949    4510.028\n",
       "Age            34.3507    35.994   0.954  0.340     -36.240     104.941"
      ]
     },
     "execution_count": 88,
     "metadata": {},
     "output_type": "execute_result"
    }
   ],
   "source": [
    "df_table = pd.read_html(model.summary().tables[1].as_html(), header = 0, index_col = 0)[0]\n",
    "df_table"
   ]
  },
  {
   "cell_type": "code",
   "execution_count": 98,
   "id": "eeb89033-8286-4eb2-b976-7cfe28aed866",
   "metadata": {},
   "outputs": [],
   "source": [
    "alpha = 0.05"
   ]
  },
  {
   "cell_type": "code",
   "execution_count": 90,
   "id": "10266ef5-61bd-4fd6-a8aa-99248894da41",
   "metadata": {},
   "outputs": [],
   "source": [
    "nobs = model.nobs\n",
    "regr_cnt = model.df_model + 1\n",
    "t_cr = stats.t.ppf(1-alpha/2, nobs - regr_cnt)"
   ]
  },
  {
   "cell_type": "code",
   "execution_count": 91,
   "id": "fbefc747-4b28-400f-864c-52d426d628a1",
   "metadata": {},
   "outputs": [
    {
     "data": {
      "text/plain": [
       "3.0"
      ]
     },
     "execution_count": 91,
     "metadata": {},
     "output_type": "execute_result"
    }
   ],
   "source": [
    "regr_cnt"
   ]
  },
  {
   "cell_type": "code",
   "execution_count": 93,
   "id": "37135e10-c83d-4a33-b21b-bafc978dc9e0",
   "metadata": {},
   "outputs": [
    {
     "data": {
      "text/plain": [
       "2000.0"
      ]
     },
     "execution_count": 93,
     "metadata": {},
     "output_type": "execute_result"
    }
   ],
   "source": [
    "nobs"
   ]
  },
  {
   "cell_type": "code",
   "execution_count": 95,
   "id": "232e2c63-291e-4a1f-9759-2c64d815ff9f",
   "metadata": {},
   "outputs": [
    {
     "data": {
      "text/plain": [
       "1.961152610098764"
      ]
     },
     "execution_count": 95,
     "metadata": {},
     "output_type": "execute_result"
    }
   ],
   "source": [
    "t_cr"
   ]
  },
  {
   "cell_type": "code",
   "execution_count": null,
   "id": "33637373-f106-4f47-b596-8b139e236127",
   "metadata": {},
   "outputs": [],
   "source": [
    "#количество регрессоров + 1 = 3\n",
    "#количество наблюдений = 2000\n",
    "#критическое значение = 1.961\n",
    "#уровень значимости 5%"
   ]
  },
  {
   "cell_type": "code",
   "execution_count": 99,
   "id": "8a7f53a3-eb4f-4799-9716-1fcf5b1fa7fe",
   "metadata": {},
   "outputs": [
    {
     "data": {
      "text/html": [
       "<div>\n",
       "<style scoped>\n",
       "    .dataframe tbody tr th:only-of-type {\n",
       "        vertical-align: middle;\n",
       "    }\n",
       "\n",
       "    .dataframe tbody tr th {\n",
       "        vertical-align: top;\n",
       "    }\n",
       "\n",
       "    .dataframe thead th {\n",
       "        text-align: right;\n",
       "    }\n",
       "</style>\n",
       "<table border=\"1\" class=\"dataframe\">\n",
       "  <thead>\n",
       "    <tr style=\"text-align: right;\">\n",
       "      <th></th>\n",
       "      <th>coef</th>\n",
       "      <th>std err</th>\n",
       "      <th>t</th>\n",
       "      <th>P&gt;|t|</th>\n",
       "      <th>[0.025</th>\n",
       "      <th>0.975]</th>\n",
       "      <th>lower</th>\n",
       "      <th>upper</th>\n",
       "    </tr>\n",
       "  </thead>\n",
       "  <tbody>\n",
       "    <tr>\n",
       "      <th>Intercept</th>\n",
       "      <td>108900.0000</td>\n",
       "      <td>2202.995</td>\n",
       "      <td>49.422</td>\n",
       "      <td>0.000</td>\n",
       "      <td>105000.000</td>\n",
       "      <td>113000.000</td>\n",
       "      <td>104579.59</td>\n",
       "      <td>113220.41</td>\n",
       "    </tr>\n",
       "    <tr>\n",
       "      <th>Gender</th>\n",
       "      <td>426.0398</td>\n",
       "      <td>2082.443</td>\n",
       "      <td>0.205</td>\n",
       "      <td>0.838</td>\n",
       "      <td>-3657.949</td>\n",
       "      <td>4510.028</td>\n",
       "      <td>-3657.95</td>\n",
       "      <td>4510.03</td>\n",
       "    </tr>\n",
       "    <tr>\n",
       "      <th>Age</th>\n",
       "      <td>34.3507</td>\n",
       "      <td>35.994</td>\n",
       "      <td>0.954</td>\n",
       "      <td>0.340</td>\n",
       "      <td>-36.240</td>\n",
       "      <td>104.941</td>\n",
       "      <td>-36.24</td>\n",
       "      <td>104.94</td>\n",
       "    </tr>\n",
       "  </tbody>\n",
       "</table>\n",
       "</div>"
      ],
      "text/plain": [
       "                  coef   std err       t  P>|t|      [0.025      0.975]  \\\n",
       "Intercept  108900.0000  2202.995  49.422  0.000  105000.000  113000.000   \n",
       "Gender        426.0398  2082.443   0.205  0.838   -3657.949    4510.028   \n",
       "Age            34.3507    35.994   0.954  0.340     -36.240     104.941   \n",
       "\n",
       "               lower      upper  \n",
       "Intercept  104579.59  113220.41  \n",
       "Gender      -3657.95    4510.03  \n",
       "Age           -36.24     104.94  "
      ]
     },
     "execution_count": 99,
     "metadata": {},
     "output_type": "execute_result"
    }
   ],
   "source": [
    "df_table['lower'] = (df_table['coef'].astype(float) - df_table['std err'].astype(float)*t_cr).round(2)\n",
    "df_table['upper'] = (df_table['coef'].astype(float) + df_table['std err'].astype(float)*t_cr).round(2)\n",
    "df_table"
   ]
  },
  {
   "cell_type": "markdown",
   "id": "5349cba8",
   "metadata": {},
   "source": [
    "***"
   ]
  },
  {
   "cell_type": "code",
   "execution_count": 29,
   "id": "68817fee",
   "metadata": {},
   "outputs": [
    {
     "data": {
      "text/plain": [
       "<function matplotlib.pyplot.show(close=None, block=None)>"
      ]
     },
     "execution_count": 29,
     "metadata": {},
     "output_type": "execute_result"
    },
    {
     "data": {
      "image/png": "[encoded data removed]",
      "text/plain": [
       "<Figure size 640x480 with 2 Axes>"
      ]
     },
     "metadata": {},
     "output_type": "display_data"
    }
   ],
   "source": [
    "columns = ['AnnualIncome','Age','WorkExperience','FamilySize']\n",
    "subset = df[columns]\n",
    "corr_matrix = subset.corr()\n",
    "sns.heatmap(corr_matrix, annot = True, cmap = 'coolwarm')\n",
    "plt.show"
   ]
  },
  {
   "cell_type": "code",
   "execution_count": null,
   "id": "71c0c41f",
   "metadata": {},
   "outputs": [],
   "source": []
  },
  {
   "cell_type": "markdown",
   "id": "f499ca0c-7ea2-4152-9c6a-231dd81aa346",
   "metadata": {},
   "source": [
    "## Мультиколлинеарность"
   ]
  },
  {
   "cell_type": "code",
   "execution_count": 29,
   "id": "028aa45f-ff54-44f3-ba0e-55504382bdcd",
   "metadata": {
    "tags": []
   },
   "outputs": [
    {
     "data": {
      "text/plain": [
       "Intercept                      47.423\n",
       "Profession[T.Doctor]           -2.385\n",
       "Profession[T.Engineer]          6.105\n",
       "Profession[T.Entertainment]     1.963\n",
       "Profession[T.Executive]        -2.570\n",
       "Profession[T.Healthcare]       -1.318\n",
       "Profession[T.Homemaker]        -3.672\n",
       "Profession[T.Lawyer]           -1.298\n",
       "Profession[T.Marketing]        -3.214\n",
       "WorkExperience                 -0.094\n",
       "FamilySize                      0.542\n",
       "dtype: float64"
      ]
     },
     "execution_count": 29,
     "metadata": {},
     "output_type": "execute_result"
    }
   ],
   "source": [
    "model__0 = smf.ols(data = df , formula = 'AnnualIncome~Age+WorkExperience+FamilySize+Profession').fit()\n",
    "model__1 = smf.ols(data = df , formula = 'Age~WorkExperience+FamilySize+Profession').fit()\n",
    "model__2 = smf.ols(data = df , formula = 'WorkExperience~Age+FamilySize+Profession').fit()\n",
    "model__1.params.round(3)"
   ]
  },
  {
   "cell_type": "code",
   "execution_count": 30,
   "id": "ba640738-61bd-4598-9474-f49f0bff9497",
   "metadata": {},
   "outputs": [
    {
     "data": {
      "text/plain": [
       "0.00902102160694318"
      ]
     },
     "execution_count": 30,
     "metadata": {},
     "output_type": "execute_result"
    }
   ],
   "source": [
    "model__1.rsquared"
   ]
  },
  {
   "cell_type": "code",
   "execution_count": 31,
   "id": "cea276fe-2b8e-4dbb-b786-ebe0d314333e",
   "metadata": {},
   "outputs": [
    {
     "data": {
      "text/plain": [
       "1.01"
      ]
     },
     "execution_count": 31,
     "metadata": {},
     "output_type": "execute_result"
    }
   ],
   "source": [
    "VIF_1 = 1/(1 - model__1.rsquared.round(3))\n",
    "VIF_1.round(2)"
   ]
  },
  {
   "cell_type": "code",
   "execution_count": 32,
   "id": "aecd00cc-16ea-4446-bfd2-9014932034b6",
   "metadata": {},
   "outputs": [
    {
     "data": {
      "text/plain": [
       "1.01"
      ]
     },
     "execution_count": 32,
     "metadata": {},
     "output_type": "execute_result"
    }
   ],
   "source": [
    "VIF_2 = 1/(1 - model__2.rsquared.round(3))\n",
    "VIF_2.round(2)"
   ]
  },
  {
   "cell_type": "markdown",
   "id": "64ac2591-be2f-4804-a3ac-03dc59b71fb5",
   "metadata": {},
   "source": [
    "## Дамми-переменные"
   ]
  },
  {
   "cell_type": "markdown",
   "id": "0b3d47c9-b7bb-4d50-813c-44209f3a1ef2",
   "metadata": {},
   "source": [
    "$$\n",
    "Н0: \\beta_{AnnualIncome}=\\beta_{Age}=\\beta_{FamilySize}=\\beta{Gender}=0\n",
    "$$\n",
    "$$\n",
    "H1: \\beta_{AnnualIncome}^2+\\beta_{Age}^2+\\beta_{FamilySize}^2+\\beta{Gender}^2>0\n",
    "$$"
   ]
  },
  {
   "cell_type": "code",
   "execution_count": 56,
   "id": "430989f4-89d1-4e15-b0e2-62981e47a5cf",
   "metadata": {},
   "outputs": [],
   "source": [
    "data_string = '''R2                      0.00048          0.983  '''\n",
    "rest, unrest =np.float_(re.findall(r'([-+]?\\d+.\\d+)', data_string)) "
   ]
  },
  {
   "cell_type": "code",
   "execution_count": 57,
   "id": "05ffd7a2-193b-4d52-a7e7-6172e5ac0902",
   "metadata": {},
   "outputs": [
    {
     "data": {
      "text/plain": [
       "10692.13"
      ]
     },
     "execution_count": 57,
     "metadata": {},
     "output_type": "execute_result"
    }
   ],
   "source": [
    "F_obs = (unrest - rest)/(1-unrest)*(935-10)/5\n",
    "F_obs.round(2)"
   ]
  },
  {
   "cell_type": "code",
   "execution_count": 58,
   "id": "c2538075-77f6-4fdc-a2cf-75c3b4ee814a",
   "metadata": {},
   "outputs": [
    {
     "data": {
      "text/plain": [
       "2.384692685857469"
      ]
     },
     "execution_count": 58,
     "metadata": {},
     "output_type": "execute_result"
    }
   ],
   "source": [
    "alpha = 0.05 \n",
    "F_cr = stats.f.ppf(1-alpha,4,706-8)\n",
    "F_cr"
   ]
  },
  {
   "cell_type": "markdown",
   "id": "5b8be1ec-8db6-4628-82ed-ad6fdbf8e609",
   "metadata": {},
   "source": [
    "$$\n",
    "F_{obs}>F_{cr}\n",
    "$$"
   ]
  },
  {
   "cell_type": "markdown",
   "id": "01e378f5-450f-4e84-aeb6-ccdab782057c",
   "metadata": {},
   "source": [
    "=> Не принимаем гипоезу H0"
   ]
  },
  {
   "cell_type": "markdown",
   "id": "e2b8e63f-7b49-4c56-9cfd-53c90361e854",
   "metadata": {},
   "source": [
    "## Гетероскедастичность"
   ]
  },
  {
   "cell_type": "code",
   "execution_count": 39,
   "id": "d8d4a843-79ff-432d-8b68-a644df618290",
   "metadata": {},
   "outputs": [],
   "source": [
    "df['res2']=model.resid**2\n",
    "df['res']=model.resid"
   ]
  },
  {
   "cell_type": "code",
   "execution_count": 40,
   "id": "34386cfd-5006-4d34-a6a8-fca40a0859e0",
   "metadata": {},
   "outputs": [],
   "source": [
    " sub_model= smf.ols(data=df, formula='res2~Age+WorkExperience+FamilySize').fit()"
   ]
  },
  {
   "cell_type": "markdown",
   "id": "1f528cef-2d69-4673-99a6-afef51f6cbaa",
   "metadata": {},
   "source": [
    "$$\n",
    "H0:\\gamma_{1}=\\gamma_{2}=\\gamma_{3}=0\n",
    "$$\n",
    "$$\n",
    "H1:\\gamma_{1}^2+\\gamma_{2}^2+\\gamma_{3}^2>0\n",
    "$$"
   ]
  },
  {
   "cell_type": "code",
   "execution_count": 41,
   "id": "8ca71266-3f55-40f9-81bf-91572e48e045",
   "metadata": {},
   "outputs": [
    {
     "data": {
      "text/plain": [
       "25.99"
      ]
     },
     "execution_count": 41,
     "metadata": {},
     "output_type": "execute_result"
    }
   ],
   "source": [
    "St = np.round(len(df)*sub_model.rsquared,2)\n",
    "St"
   ]
  },
  {
   "cell_type": "code",
   "execution_count": 42,
   "id": "88277a27-3935-4bb3-942c-796d1db095b6",
   "metadata": {},
   "outputs": [
    {
     "data": {
      "text/plain": [
       "12.591587243743977"
      ]
     },
     "execution_count": 42,
     "metadata": {},
     "output_type": "execute_result"
    }
   ],
   "source": [
    "Hi2 = stats.chi2.ppf(1-0.05,6)\n",
    "Hi2"
   ]
  },
  {
   "cell_type": "code",
   "execution_count": 43,
   "id": "945d76d2",
   "metadata": {},
   "outputs": [
    {
     "data": {
      "text/plain": [
       "16.811893829770927"
      ]
     },
     "execution_count": 43,
     "metadata": {},
     "output_type": "execute_result"
    }
   ],
   "source": [
    "Hi2 = stats.chi2.ppf(1-0.01,6)\n",
    "Hi2"
   ]
  },
  {
   "cell_type": "markdown",
   "id": "9b68b485-a3da-487b-8dd5-49d3249d8092",
   "metadata": {},
   "source": [
    "$$\n",
    "Тест указывает на гетероскедастичность\n",
    "\n",
    "$$\n",
    "Отвергаем гипотезу Н0\n"
   ]
  },
  {
   "cell_type": "markdown",
   "id": "26227c32-42dd-44cb-9130-ac856df303f2",
   "metadata": {},
   "source": [
    "## Серийная корреляция"
   ]
  },
  {
   "cell_type": "code",
   "execution_count": 44,
   "id": "9c9895ba-25b6-4cb7-bd25-301f3eeee99f",
   "metadata": {},
   "outputs": [
    {
     "data": {
      "text/plain": [
       "0      -91556.078877\n",
       "1      -73714.146135\n",
       "2      -20339.021688\n",
       "3      -46405.698916\n",
       "4      -69782.332460\n",
       "            ...     \n",
       "1995    68891.923481\n",
       "1996   -42023.024891\n",
       "1997   -26413.010767\n",
       "1998    67184.478205\n",
       "1999    -2702.870253\n",
       "Length: 2000, dtype: float64"
      ]
     },
     "execution_count": 44,
     "metadata": {},
     "output_type": "execute_result"
    }
   ],
   "source": [
    "model.resid"
   ]
  },
  {
   "cell_type": "code",
   "execution_count": 45,
   "id": "be19a6a0-2a8f-44ad-b5e2-4b2b0e6eae07",
   "metadata": {
    "tags": []
   },
   "outputs": [],
   "source": [
    "resSq = sum(model.resid**2)"
   ]
  },
  {
   "cell_type": "code",
   "execution_count": 46,
   "id": "dd281148-beb5-411c-b619-d727aee33892",
   "metadata": {},
   "outputs": [
    {
     "data": {
      "text/plain": [
       "5918457797428.952"
      ]
     },
     "execution_count": 46,
     "metadata": {},
     "output_type": "execute_result"
    }
   ],
   "source": [
    "sum_resid = 0\n",
    "for i in range(len(model.resid)-1):\n",
    "    sum_resid+=(model.resid[i+1]-model.resid[i])**2\n",
    "sum_resid"
   ]
  },
  {
   "cell_type": "markdown",
   "id": "5ca33f44-7d43-472d-87e2-b52c58ed6237",
   "metadata": {},
   "source": [
    "\n",
    "$$\n",
    "H0:p = 0\n",
    "$$\n",
    "$$\n",
    "H1:p ≠ 0\n",
    "$$"
   ]
  },
  {
   "cell_type": "code",
   "execution_count": 47,
   "id": "df898de0-9cf1-4341-bc37-77ff550472e0",
   "metadata": {},
   "outputs": [
    {
     "data": {
      "text/plain": [
       "1.4272650544564878"
      ]
     },
     "execution_count": 47,
     "metadata": {},
     "output_type": "execute_result"
    }
   ],
   "source": [
    "sum_resid/resSq"
   ]
  },
  {
   "cell_type": "markdown",
   "id": "9fb12cb6",
   "metadata": {},
   "source": [
    "Гипотеза Н0 отвергается"
   ]
  },
  {
   "cell_type": "code",
   "execution_count": 49,
   "id": "09af3a0f",
   "metadata": {},
   "outputs": [
    {
     "ename": "SyntaxError",
     "evalue": "invalid syntax (577623695.py, line 1)",
     "output_type": "error",
     "traceback": [
      "\u001b[1;36m  File \u001b[1;32m\"C:\\Users\\student.LIMM.004\\AppData\\Local\\Temp\\ipykernel_2888\\577623695.py\"\u001b[1;36m, line \u001b[1;32m1\u001b[0m\n\u001b[1;33m    from statsmodels.stats.stattools\u001b[0m\n\u001b[1;37m                                    ^\u001b[0m\n\u001b[1;31mSyntaxError\u001b[0m\u001b[1;31m:\u001b[0m invalid syntax\n"
     ]
    }
   ],
   "source": [
    "from statsmodels.stats.stattools\n",
    "import durbin_watson\n",
    "dw = durbin_watson(sub_model.resid)\n",
    "round(dw,2)"
   ]
  },
  {
   "cell_type": "code",
   "execution_count": null,
   "id": "72e5f4df",
   "metadata": {},
   "outputs": [],
   "source": []
  }
 ],
 "metadata": {
  "kernelspec": {
   "display_name": "Python 3 (ipykernel)",
   "language": "python",
   "name": "python3"
  },
  "language_info": {
   "codemirror_mode": {
    "name": "ipython",
    "version": 3
   },
   "file_extension": ".py",
   "mimetype": "text/x-python",
   "name": "python",
   "nbconvert_exporter": "python",
   "pygments_lexer": "ipython3",
   "version": "3.9.15"
  }
 },
 "nbformat": 4,
 "nbformat_minor": 5
}
